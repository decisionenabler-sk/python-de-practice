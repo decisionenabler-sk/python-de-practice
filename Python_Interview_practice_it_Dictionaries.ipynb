{
  "cells": [
    {
      "cell_type": "markdown",
      "metadata": {
        "colab_type": "text",
        "id": "view-in-github"
      },
      "source": [
        "<a href=\"https://colab.research.google.com/github/decisionenabler-sk/python_de_practice_it/blob/main/Python_Interview_practice_it_Dictionaries.ipynb\" target=\"_parent\"><img src=\"https://colab.research.google.com/assets/colab-badge.svg\" alt=\"Open In Colab\"/></a>"
      ]
    },
    {
      "cell_type": "markdown",
      "metadata": {
        "id": "wIyJeihReMlP"
      },
      "source": [
        "Write a Python script to sort (ascending and descending) a dictionary by value."
      ]
    },
    {
      "cell_type": "code",
      "execution_count": 2,
      "metadata": {
        "colab": {
          "base_uri": "https://localhost:8080/"
        },
        "id": "wH2dHbgKeRyI",
        "outputId": "0ad83322-2986-4436-bd9f-ee8733294f99"
      },
      "outputs": [
        {
          "name": "stdout",
          "output_type": "stream",
          "text": [
            "{4: 75, 3: 150, 1: 200, 2: 250, 5: 700}\n"
          ]
        }
      ],
      "source": [
        "d1 = {1:200, 2:250, 3:150, 4:75, 5:700}\n",
        "output = sorted(d1.items(), key=lambda x:x[1])\n",
        "print({k:v for k,v in output})"
      ]
    },
    {
      "cell_type": "markdown",
      "metadata": {
        "id": "rbQ7HVM9eWBu"
      },
      "source": [
        "Write a Python script to add a key to a dictionary."
      ]
    },
    {
      "cell_type": "code",
      "execution_count": null,
      "metadata": {
        "colab": {
          "base_uri": "https://localhost:8080/"
        },
        "id": "QFCD4LXeeYkB",
        "outputId": "d691fff7-e72b-4170-9e72-31cdad5adab3"
      },
      "outputs": [
        {
          "name": "stdout",
          "output_type": "stream",
          "text": [
            "{0: 10, 1: 20, 2: 30}\n"
          ]
        }
      ],
      "source": [
        "data = {0: 10, 1: 20}\n",
        "# output {0: 10, 1: 20, 2: 30}\n",
        "data[2] = 30\n",
        "print(data)"
      ]
    },
    {
      "cell_type": "markdown",
      "metadata": {
        "id": "u4Hs2jBcebYf"
      },
      "source": [
        "Write a Python script to concatenate the following dictionaries to create a new one."
      ]
    },
    {
      "cell_type": "code",
      "execution_count": null,
      "metadata": {
        "colab": {
          "base_uri": "https://localhost:8080/"
        },
        "id": "bLUWBgCrefC2",
        "outputId": "8b13da31-1bfc-4b31-ade2-ccff85305d86"
      },
      "outputs": [
        {
          "name": "stdout",
          "output_type": "stream",
          "text": [
            "{1: 10, 2: 20, 3: 30, 4: 40, 5: 50, 6: 60}\n"
          ]
        }
      ],
      "source": [
        "dic1={1:10, 2:20}\n",
        "dic2={3:30, 4:40}\n",
        "dic3={5:50,6:60}\n",
        "# Expected Result : {1: 10, 2: 20, 3: 30, 4: 40, 5: 50, 6: 60}\n",
        "dic4={}\n",
        "def merge_d(d1,d2):\n",
        "    return d1.update(d2)\n",
        "# dic4.update(dic1)\n",
        "# dic4.update(dic2)\n",
        "# dic4.update(dic3)\n",
        "merge_d(dic1,dic2)\n",
        "merge_d(dic1,dic3)\n",
        "print(dic1)"
      ]
    },
    {
      "cell_type": "markdown",
      "metadata": {
        "id": "bwf1TcJZehi_"
      },
      "source": [
        "Write a Python script to check whether a given key already exists in a dictionary."
      ]
    },
    {
      "cell_type": "code",
      "execution_count": null,
      "metadata": {
        "colab": {
          "base_uri": "https://localhost:8080/"
        },
        "id": "RrPJrdriek93",
        "outputId": "ef38d607-41df-4847-a43e-91d68e6d0338"
      },
      "outputs": [
        {
          "name": "stdout",
          "output_type": "stream",
          "text": [
            "Yes\n"
          ]
        }
      ],
      "source": [
        "data = {\"John\":28, \"Jack\":30, \"Jill\":40}\n",
        "if \"John\" in data:\n",
        "    print(\"Yes\")\n",
        "else:\n",
        "    print(\"No\")"
      ]
    },
    {
      "cell_type": "markdown",
      "metadata": {
        "id": "qSNZ2afheukN"
      },
      "source": [
        "generate and print a dictionary that contains a number (between 1 and n) in the form (x, x*x)"
      ]
    },
    {
      "cell_type": "code",
      "execution_count": null,
      "metadata": {
        "colab": {
          "base_uri": "https://localhost:8080/"
        },
        "id": "6lULfPoZevUx",
        "outputId": "2c856245-f608-449a-f0c3-ee50f7d5e4b4"
      },
      "outputs": [
        {
          "name": "stdout",
          "output_type": "stream",
          "text": [
            "{1: 1, 2: 4, 3: 9, 4: 16, 5: 25}\n"
          ]
        }
      ],
      "source": [
        "n=5\n",
        "d=dict()\n",
        "for x in range(1,n+1):\n",
        "    d[x]=x*x\n",
        "print(d)"
      ]
    },
    {
      "cell_type": "markdown",
      "metadata": {
        "id": "scGj8VT6ezT0"
      },
      "source": [
        "print a dictionary where the keys are numbers between 1 and 15 (both included) and the values are the square of the keys."
      ]
    },
    {
      "cell_type": "code",
      "execution_count": null,
      "metadata": {
        "colab": {
          "base_uri": "https://localhost:8080/"
        },
        "id": "Bcw2oghbe1g9",
        "outputId": "a18fcdb2-12cd-4aaa-df6a-02ab2c57796d"
      },
      "outputs": [
        {
          "name": "stdout",
          "output_type": "stream",
          "text": [
            "{1: 1, 2: 4, 3: 9, 4: 16, 5: 25, 6: 36, 7: 49, 8: 64, 9: 81, 10: 100, 11: 121, 12: 144, 13: 169, 14: 196, 15: 225}\n"
          ]
        }
      ],
      "source": [
        "d=dict()\n",
        "for x in range(1,16):\n",
        "    d[x]=x**2\n",
        "print(d)"
      ]
    },
    {
      "cell_type": "markdown",
      "metadata": {
        "id": "9xSbaCrKgr9s"
      },
      "source": [
        "Write a Python program to combine two dictionary by adding values for common keys."
      ]
    },
    {
      "cell_type": "code",
      "execution_count": null,
      "metadata": {
        "colab": {
          "base_uri": "https://localhost:8080/"
        },
        "id": "T2NmbXItgs8f",
        "outputId": "17d5d7a3-39e2-4d13-b22f-fd8b3e68531e"
      },
      "outputs": [
        {
          "name": "stdout",
          "output_type": "stream",
          "text": [
            "{'a': 400, 'b': 400, 'd': 400, 'c': 300}\n"
          ]
        }
      ],
      "source": [
        "d1 = {'a': 100, 'b': 200, 'c':300}\n",
        "d2 = {'a': 300, 'b': 200, 'd':400}\n",
        "for k1 in d1:\n",
        "    if k1 in d2:\n",
        "        d2[k1] = d1[k1] + d2[k1]\n",
        "    else:\n",
        "        d2[k1] = d1[k1]\n",
        "print(d2)"
      ]
    },
    {
      "cell_type": "markdown",
      "metadata": {
        "id": "jcXQpNtMi231"
      },
      "source": [
        "remove duplicates from the dictionary"
      ]
    },
    {
      "cell_type": "code",
      "execution_count": null,
      "metadata": {
        "colab": {
          "base_uri": "https://localhost:8080/"
        },
        "id": "uIYIYR1gi3gy",
        "outputId": "1e9e987b-14ec-497d-96ac-cfa76d4d5fc6"
      },
      "outputs": [
        {
          "name": "stdout",
          "output_type": "stream",
          "text": [
            "{100: 'a', 200: 'b', 300: 'd'}\n",
            "{'a': 100, 'b': 200, 'd': 300}\n",
            "{100: 'a', 200: 'b', 300: 'c'}\n",
            "{'a': 100, 'b': 200, 'c': 300}\n"
          ]
        }
      ],
      "source": [
        "d1 = {'a': 100, 'b': 200, 'c':300, 'd': 300}\n",
        "#approach 1\n",
        "unique = {v: k for k, v in d1.items()}\n",
        "output1 = {v: k for k, v in unique.items()}\n",
        "print(unique)\n",
        "print(output1)\n",
        "# approach 2\n",
        "output2 = {}\n",
        "for k,v in d1.items():\n",
        "    output2.setdefault(v,k)\n",
        "print(output2)\n",
        "print(dict((v,k) for k,v in output2.items()))"
      ]
    },
    {
      "cell_type": "markdown",
      "metadata": {
        "id": "OpVMs4lytQCa"
      },
      "source": [
        "Find the most common 3 products purchased"
      ]
    },
    {
      "cell_type": "code",
      "execution_count": null,
      "metadata": {
        "colab": {
          "base_uri": "https://localhost:8080/"
        },
        "id": "Y9v_buwRsofF",
        "outputId": "529acf0e-d4db-45ed-85e9-9fde5b32dcb2"
      },
      "outputs": [
        {
          "name": "stdout",
          "output_type": "stream",
          "text": [
            "[('DES004', 7), ('DES002', 5), ('ENT004', 5)]\n"
          ]
        }
      ],
      "source": [
        "from collections import Counter\n",
        "products_purchased = [\"DES005\",\n",
        "            \"BEV003\",\n",
        "            \"DES004\",\n",
        "            \"DES001\",\n",
        "            \"DES002\",\n",
        "            \"DES003\",\n",
        "            \"DES002\",\n",
        "            \"DES002\",\n",
        "            \"STA004\",\n",
        "            \"SAL004\",\n",
        "            \"ENT005\",\n",
        "            \"BEV003\",\n",
        "            \"SAL002\",\n",
        "            \"ENT005\",\n",
        "            \"SAL004\",\n",
        "            \"ENT004\",\n",
        "            \"ENT004\",\n",
        "            \"DES004\",\n",
        "            \"BEV001\",\n",
        "            \"STA001\",\n",
        "            \"STA003\",\n",
        "            \"BEV002\",\n",
        "            \"STA003\",\n",
        "            \"DES005\",\n",
        "            \"BEV002\",\n",
        "            \"ENT004\",\n",
        "            \"ENT001\",\n",
        "            \"DES005\",\n",
        "            \"ENT004\",\n",
        "            \"STA005\",\n",
        "            \"ENT005\",\n",
        "            \"DES002\",\n",
        "            \"ENT001\",\n",
        "            \"SAL001\",\n",
        "            \"BEV001\",\n",
        "            \"DES002\",\n",
        "            \"BEV001\",\n",
        "            \"DES004\",\n",
        "            \"ENT004\",\n",
        "            \"DES001\",\n",
        "            \"STA005\",\n",
        "            \"DES004\",\n",
        "            \"ENT002\",\n",
        "            \"DES001\",\n",
        "            \"ENT002\",\n",
        "            \"ENT003\",\n",
        "            \"BEV001\",\n",
        "            \"DES004\",\n",
        "            \"STA005\",\n",
        "            \"STA003\",\n",
        "            \"SAL002\",\n",
        "            \"ENT001\",\n",
        "            \"SAL004\",\n",
        "            \"STA005\",\n",
        "            \"ENT002\",\n",
        "            \"DES004\",\n",
        "            \"DES004\",\n",
        "            \"SAL001\",\n",
        "            \"BEV003\",\n",
        "            \"DES001\"]\n",
        "count = Counter(products_purchased)\n",
        "print(count.most_common(3))"
      ]
    },
    {
      "cell_type": "markdown",
      "metadata": {
        "id": "eEBOtDwcvBJc"
      },
      "source": [
        "sell 5 starters, 3 salads, and 3 entrees\n",
        "make 9 more starters and 1 more entree"
      ]
    },
    {
      "cell_type": "code",
      "execution_count": null,
      "metadata": {
        "colab": {
          "base_uri": "https://localhost:8080/"
        },
        "id": "5vVVC-tjvRbp",
        "outputId": "a89da8df-f04a-4090-f817-fec51faaf134"
      },
      "outputs": [
        {
          "name": "stdout",
          "output_type": "stream",
          "text": [
            "Counter({'SAL002': 17, 'ENT004': 10, 'STA001': 5})\n",
            "{'STA001': 9, 'SAL002': 1}\n",
            "None\n"
          ]
        }
      ],
      "source": [
        "from collections import Counter\n",
        "inventory = Counter(STA001=10, SAL002=20, ENT004=13)\n",
        "#sell\n",
        "sales_this_week = Counter(STA001=5, SAL002=3,ENT004=3)\n",
        "inventory = inventory - sales_this_week\n",
        "print(inventory)\n",
        "#make\n",
        "inventory_in = dict()\n",
        "inventory_in = {\"STA001\":9, \"SAL002\":1}\n",
        "print(inventory_in)\n",
        "inventory = inventory.update(inventory_in)\n",
        "print(inventory)"
      ]
    },
    {
      "cell_type": "markdown",
      "metadata": {
        "id": "JwYtx1Tj1UJt"
      },
      "source": [
        "Keep track of the last 5 foods you ordered"
      ]
    },
    {
      "cell_type": "code",
      "execution_count": null,
      "metadata": {
        "colab": {
          "base_uri": "https://localhost:8080/"
        },
        "id": "jRxrvBaI1lO4",
        "outputId": "7928551f-a322-4e81-8f06-8821bc498d8a"
      },
      "outputs": [
        {
          "name": "stdout",
          "output_type": "stream",
          "text": [
            "deque(['STA001'], maxlen=5)\n",
            "deque(['STA001', 'DES003', 'STA002', 'ENT004', 'ENT001'], maxlen=5)\n",
            "deque(['DES005', 'STA001', 'DES003', 'STA002', 'ENT004'], maxlen=5)\n"
          ]
        }
      ],
      "source": [
        "from collections import deque\n",
        "foods = deque(maxlen=5)\n",
        "foods.append(\"STA001\")\n",
        "print(foods)\n",
        "ordered_foods = [\"DES003\", \"STA002\", \"ENT004\", \"ENT001\"]\n",
        "foods.extend(ordered_foods)\n",
        "print(foods)\n",
        "foods.appendleft(\"DES005\")\n",
        "print(foods)"
      ]
    },
    {
      "cell_type": "markdown",
      "metadata": {
        "id": "WgWI3e9x3NiM"
      },
      "source": [
        "Palndrone Checker"
      ]
    },
    {
      "cell_type": "code",
      "execution_count": null,
      "metadata": {
        "colab": {
          "base_uri": "https://localhost:8080/"
        },
        "id": "TCHeYU823vGZ",
        "outputId": "f1cd6166-404a-4d43-8b6f-6ffa071de934"
      },
      "outputs": [
        {
          "name": "stdout",
          "output_type": "stream",
          "text": [
            "False\n"
          ]
        }
      ],
      "source": [
        "from collections import deque\n",
        "# word = \"HANNAH\"\n",
        "word = \"SURBHI\"\n",
        "d = deque(word)\n",
        "while len(d) > 1:\n",
        "  if d.pop() != d.popleft():\n",
        "      output = False\n",
        "  else:\n",
        "     output = True\n",
        "\n",
        "print(output)"
      ]
    },
    {
      "cell_type": "markdown",
      "metadata": {
        "id": "Wzhv0y7XjJN4"
      },
      "source": [
        "Given a dictionary and dictionary list, update the dictionary with dictionary list values.\n"
      ]
    },
    {
      "cell_type": "code",
      "execution_count": null,
      "metadata": {
        "colab": {
          "base_uri": "https://localhost:8080/"
        },
        "id": "6op2zILajKM5",
        "outputId": "3509cf4a-0c51-4add-ea7b-1249b1517b64"
      },
      "outputs": [
        {
          "name": "stdout",
          "output_type": "stream",
          "text": [
            "[{'for': 3, 'all': 7}, {'and': 1, 'CS': 9}]\n",
            "{'Gfg': 2, 'is': 1, 'Best': 3, 'for': 3, 'all': 7, 'and': 1, 'CS': 9}\n"
          ]
        }
      ],
      "source": [
        "dict_list = [{\"for\":3,\"all\":7}, {\"and\": 1, \"CS\":9}]\n",
        "test_dict = {\"Gfg\":2, \"is\":1,\"Best\":3}\n",
        "for item in dict_list:\n",
        "  test_dict.update(item)\n",
        "print(dict_list)\n",
        "print(test_dict)"
      ]
    },
    {
      "cell_type": "markdown",
      "metadata": {
        "id": "PZqk_JfmjkFY"
      },
      "source": [
        "Reverse Dictionary Keys Order"
      ]
    },
    {
      "cell_type": "code",
      "execution_count": null,
      "metadata": {
        "colab": {
          "base_uri": "https://localhost:8080/"
        },
        "id": "Syimg0EfjlPX",
        "outputId": "42b997e1-484c-45ff-9301-48f59d5fa09d"
      },
      "outputs": [
        {
          "name": "stdout",
          "output_type": "stream",
          "text": [
            "OrderedDict([('Best', 3), ('is', 1), ('Gfg', 2)])\n"
          ]
        }
      ],
      "source": [
        "from collections import OrderedDict\n",
        "test_dict = {\"Gfg\":2, \"is\":1,\"Best\":3}\n",
        "output = OrderedDict(reversed(list(test_dict.items())))\n",
        "print(output)"
      ]
    },
    {
      "cell_type": "markdown",
      "metadata": {
        "id": "QXRXsiJrkXbD"
      },
      "source": [
        "Replace dictionary value from other dictionary"
      ]
    },
    {
      "cell_type": "code",
      "execution_count": null,
      "metadata": {
        "colab": {
          "base_uri": "https://localhost:8080/"
        },
        "id": "JcHwr1aQkaKj",
        "outputId": "a50f057c-62db-4524-b48a-a9ae4098216f"
      },
      "outputs": [
        {
          "name": "stdout",
          "output_type": "stream",
          "text": [
            "{'Gfg': 5, 'is': 8, 'Best': 10, 'for': 8, 'Geeks': 9}\n",
            "{'Gfg': 10, 'is': 8, 'Best': 17, 'for': 8, 'Geeks': 9}\n"
          ]
        }
      ],
      "source": [
        "test_dict = {\"Gfg\" : 5, \"is\" : 8, \"Best\" : 10, \"for\" : 8, \"Geeks\" : 9}\n",
        "print(test_dict)\n",
        "updict = {\"Gfg\"  : 10, \"Best\" : 17}\n",
        "for item in test_dict:\n",
        "  if item in updict:\n",
        "    test_dict[item] = updict[item]\n",
        "print(test_dict)\n",
        "\n"
      ]
    },
    {
      "cell_type": "markdown",
      "metadata": {
        "id": "Mp3eVZfRl0e4"
      },
      "source": [
        "Combine 2 dictionaries having key of first dictionary and value of second dictionary"
      ]
    },
    {
      "cell_type": "code",
      "execution_count": null,
      "metadata": {
        "colab": {
          "base_uri": "https://localhost:8080/"
        },
        "id": "Kt64tNCWl-0K",
        "outputId": "9eff6f8d-1802-4eef-d3e9-d3f17cecb72d"
      },
      "outputs": [
        {
          "name": "stdout",
          "output_type": "stream",
          "text": [
            "{'Gfg': 26, 'is': 20, 'best': 70}\n"
          ]
        }
      ],
      "source": [
        "test_dict1 = {\"Gfg\" : 20, \"is\" : 36, \"best\" : 100}\n",
        "test_dict2 = {\"Gfg2\" : 26, \"is2\" : 20, \"best2\" : 70}\n",
        "keys1 = list(test_dict1.keys())\n",
        "values2 = list(test_dict2.values())\n",
        "output=dict()\n",
        "for i in range(len(keys1)):\n",
        "     output[keys1[i]] = values2[i]\n",
        "print(output)"
      ]
    },
    {
      "cell_type": "markdown",
      "metadata": {
        "id": "kC5eC1PJncyb"
      },
      "source": [
        "Count the frequency of each word in the paragraph"
      ]
    },
    {
      "cell_type": "code",
      "execution_count": null,
      "metadata": {
        "colab": {
          "base_uri": "https://localhost:8080/"
        },
        "id": "QxVVZpIXndy_",
        "outputId": "3dfd1ff8-8248-4570-e311-529ce512bbf9"
      },
      "outputs": [
        {
          "name": "stdout",
          "output_type": "stream",
          "text": [
            "[('of', 7), ('and', 7), ('the', 6), ('their', 6)]\n"
          ]
        }
      ],
      "source": [
        "import string\n",
        "from collections import Counter\n",
        "paragraph = \"\"\"Nadia's Garden Restaurant is the creation of husband and wife team Nadia and Timothy Arbore.\n",
        "    Their American-infused, Italian-based, organically created, cuisine was inspired by Nadia's papa, an immigrant from Italy,\n",
        "    who shared his love of cooking with Nadia as a young girl. His focus on using fresh ingredients and family style dining were\n",
        "    the inspiration for Nadia's Garden Restaurant. Located in the heart of Main Streets Historic District, they are proud to be a\n",
        "    part of a rich community. In 2011, the duo remodeled the restaurant and updated their menu to include newer and more diverse entrées\n",
        "     that could be made from local organic suppliers. Preservation of the building's original layout has allowed them to create smaller,\n",
        "     more intimate, dining spaces. Nadia and Timothy are committed to sharing their family history of cuisine, along with their new inspirations,\n",
        "      with their customers. Their passion for community, entertainment, and hospitality are found in every aspect of Nadia's Garden Restaurant.\"\"\"\n",
        "# print(paragraph)\n",
        "paragraph = paragraph.lower()\n",
        "paragraph = paragraph.translate(str.maketrans('', '', string.punctuation))\n",
        "wordlist = paragraph.split()\n",
        "count = Counter(wordlist)\n",
        "# print(count.get(\"restaurant\"))\n",
        "print(count)"
      ]
    },
    {
      "cell_type": "markdown",
      "metadata": {
        "id": "VdbSA8PLupyp"
      },
      "source": [
        "Remove duplicate values across Dictionary Values *(in progress)*"
      ]
    },
    {
      "cell_type": "code",
      "execution_count": null,
      "metadata": {
        "id": "v9GQRfuIvB5J"
      },
      "outputs": [],
      "source": [
        "from collections import Counter\n",
        "test_dict = {'Manjeet': [1, 4, 5, 6],\n",
        "             'Akash': [1, 8, 9],\n",
        "             'Nikhil': [10, 22, 4],\n",
        "             'Akshat': [5, 11, 22]}\n",
        "count = Counter()\n",
        "for i in test_dict.values():\n",
        "  count.update(i)"
      ]
    },
    {
      "cell_type": "markdown",
      "metadata": {
        "id": "V3ES9hZPnHLD"
      },
      "source": [
        "Given an integer array nums, return true if any value appears at least twice in the array, and return false if every element is distinct"
      ]
    },
    {
      "cell_type": "code",
      "execution_count": null,
      "metadata": {
        "colab": {
          "base_uri": "https://localhost:8080/"
        },
        "id": "6iY06C5dnIkF",
        "outputId": "dcbe1898-5446-4314-851d-42ff89a387c5"
      },
      "outputs": [
        {
          "name": "stdout",
          "output_type": "stream",
          "text": [
            "4\n",
            "4\n",
            "False\n"
          ]
        }
      ],
      "source": [
        "nums = [1,2,3,4]\n",
        "unique = set()\n",
        "for num in nums:\n",
        "    unique.add(num)\n",
        "print(len(unique))\n",
        "print(len(nums))\n",
        "if len(unique)<len(nums):\n",
        "  print(True)\n",
        "else:\n",
        "  print(False)"
      ]
    },
    {
      "cell_type": "markdown",
      "metadata": {
        "id": "h6xTfZqn8rMw"
      },
      "source": [
        "refactor the above code using list comprehension"
      ]
    },
    {
      "cell_type": "code",
      "execution_count": null,
      "metadata": {
        "colab": {
          "base_uri": "https://localhost:8080/"
        },
        "id": "HD2GHJ7V8u5O",
        "outputId": "2c371e95-0f1b-4239-c141-0d6f8d5d45f9"
      },
      "outputs": [
        {
          "name": "stdout",
          "output_type": "stream",
          "text": [
            "True\n"
          ]
        }
      ],
      "source": [
        "nums = [1,2,3,1]\n",
        "unique = set(num for num in nums)\n",
        "print(True if len(unique) < len(nums) else False)"
      ]
    },
    {
      "cell_type": "markdown",
      "metadata": {
        "id": "aOa7HbzIC1f1"
      },
      "source": [
        "Write a Python program to sum and multiply all the items in a dictionary."
      ]
    },
    {
      "cell_type": "code",
      "execution_count": null,
      "metadata": {
        "colab": {
          "base_uri": "https://localhost:8080/"
        },
        "id": "f_Vj2c8yC2lE",
        "outputId": "3559cd63-ac9a-4caa-a2b5-2d8167110c8d"
      },
      "outputs": [
        {
          "name": "stdout",
          "output_type": "stream",
          "text": [
            "293\n",
            "1000\n"
          ]
        }
      ],
      "source": [
        "my_dict = {'data1':100,'data2':-54,'data3':247}\n",
        "print(sum(my_dict.values()))\n",
        "my_dict2 = {'data1':10,'data2':20,'data3':5}\n",
        "multiply= 1\n",
        "for k in my_dict2:\n",
        "  multiply=multiply*my_dict2[k]\n",
        "print(multiply)"
      ]
    },
    {
      "cell_type": "markdown",
      "metadata": {
        "id": "tmZGcmS-heiD"
      },
      "source": [
        "remove a key from a dictionary"
      ]
    },
    {
      "cell_type": "code",
      "execution_count": null,
      "metadata": {
        "colab": {
          "base_uri": "https://localhost:8080/"
        },
        "id": "wht8kE5hhg_3",
        "outputId": "b4ebf54f-26a7-4e8e-d6cc-e5c272880a8c"
      },
      "outputs": [
        {
          "name": "stdout",
          "output_type": "stream",
          "text": [
            "{'t2': 248, 't3': 243, 't4': 251}\n",
            "{'a': 1, 'b': 2, 'c': 3, 'd': 4}\n",
            "{'b': 2, 'c': 3, 'd': 4}\n"
          ]
        }
      ],
      "source": [
        "d={\"t1\":250, \"t2\":248, \"t3\":243, \"t4\":251}\n",
        "d.pop(\"t1\")\n",
        "print(d)\n",
        "myDict = {'a':1,'b':2,'c':3,'d':4}\n",
        "print(myDict)\n",
        "if 'a' in myDict:\n",
        "    del myDict['a']\n",
        "print(myDict)\n"
      ]
    },
    {
      "cell_type": "markdown",
      "metadata": {
        "id": "r21MDJqfjL2I"
      },
      "source": [
        "map two lists into a dictionary"
      ]
    },
    {
      "cell_type": "code",
      "execution_count": null,
      "metadata": {
        "colab": {
          "base_uri": "https://localhost:8080/"
        },
        "id": "Nk2AfddUjMl_",
        "outputId": "5e408b56-61cb-457f-c544-ab2f74f255f9"
      },
      "outputs": [
        {
          "name": "stdout",
          "output_type": "stream",
          "text": [
            "{'a': 1, 'b': 2, 'c': 3}\n"
          ]
        }
      ],
      "source": [
        "l1 = [\"a\", \"b\", \"c\"]\n",
        "l2 = [1,2,3]\n",
        "d=dict(zip(l1,l2))\n",
        "print(d)"
      ]
    },
    {
      "cell_type": "markdown",
      "metadata": {
        "id": "bSB871cPkwvp"
      },
      "source": [
        "sort a given dictionary by key and then by value, and find min and max value"
      ]
    },
    {
      "cell_type": "code",
      "execution_count": null,
      "metadata": {
        "colab": {
          "base_uri": "https://localhost:8080/"
        },
        "id": "sViQordJkytJ",
        "outputId": "53f0af6f-2089-4a78-ef8a-db8e1b821bca"
      },
      "outputs": [
        {
          "name": "stdout",
          "output_type": "stream",
          "text": [
            "{'t1': 248, 't2': 250, 't3': 243, 't4': 251}\n",
            "{'t3': 243, 't1': 248, 't2': 250, 't4': 251}\n",
            "Maximum Value:  251\n",
            "Minimum Value:  243\n"
          ]
        }
      ],
      "source": [
        "from collections import OrderedDict\n",
        "d={\"t2\":250, \"t1\":248, \"t3\":243, \"t4\":251}\n",
        "keys=sorted(d.keys())\n",
        "# print(keys)\n",
        "# sort_keys_d = {k:d[k] for k in keys}\n",
        "sort_keys_d = {k:d[k] for k in sorted(d.keys())}\n",
        "sort_values_d = dict(sorted(d.items(), key=lambda x:x[1]))\n",
        "print(sort_keys_d)\n",
        "print(sort_values_d)\n",
        "\n",
        "key_max = max(d.keys(), key=(lambda k: d[k]))\n",
        "key_min = min(d.keys(), key=(lambda k: d[k]))\n",
        "\n",
        "print('Maximum Value: ',d[key_max])\n",
        "print('Minimum Value: ',d[key_min])\n"
      ]
    },
    {
      "cell_type": "markdown",
      "metadata": {
        "id": "Vr8VBRtnohF3"
      },
      "source": [
        "swap values from two dictionaries"
      ]
    },
    {
      "cell_type": "code",
      "execution_count": null,
      "metadata": {
        "colab": {
          "base_uri": "https://localhost:8080/"
        },
        "id": "ck-tDXfopkrX",
        "outputId": "a27c1318-c5bb-4630-f8b8-a74d88e34a07"
      },
      "outputs": [
        {
          "name": "stdout",
          "output_type": "stream",
          "text": [
            "{'a': 4000, 'b': 3000, 'c': 2000, 'd': 1000}\n",
            "{'aa': 400, 'bb': 300, 'cc': 200, 'dd': 100}\n"
          ]
        }
      ],
      "source": [
        "d1 = {\"a\":100, \"b\":200, \"c\":300, \"d\":400}\n",
        "d2 = {\"aa\":1000, \"bb\":2000, \"cc\":3000, \"dd\":4000}\n",
        "for k1,v1 in d1.items():\n",
        "  for k2,v2 in d2.items():\n",
        "    d1[k1], d2[k2] = d2[k2], d1[k1]\n",
        "print(d1)\n",
        "print(d2)"
      ]
    },
    {
      "cell_type": "markdown",
      "metadata": {
        "id": "tcNxy9oLATBp"
      },
      "source": [
        "print all distinct values in a list of dictionaries."
      ]
    },
    {
      "cell_type": "code",
      "execution_count": null,
      "metadata": {
        "colab": {
          "base_uri": "https://localhost:8080/"
        },
        "id": "a1-k8BXHAUpi",
        "outputId": "0f0132f2-20c9-42e8-fbf1-51717af1bcfc"
      },
      "outputs": [
        {
          "name": "stdout",
          "output_type": "stream",
          "text": [
            "{'S008', 'S005', 'S001', 'S002', 'S009', 'S007'}\n",
            "{'S008', 'S005', 'S001', 'S002', 'S009', 'S007'}\n"
          ]
        }
      ],
      "source": [
        "items = [{\"V\":\"S001\", \"VI\":\"S008\"}, {\"V\": \"S002\"}, {\"VI\": \"S001\"}, {\"VI\": \"S005\"}, {\"VII\":\"S005\"}, {\"V\":\"S009\"},{\"VIII\":\"S007\"}]\n",
        "# the given sample is a list of dictionaries\n",
        "s = set()\n",
        "for item in items:\n",
        "  for i in item.values():\n",
        "    s.add(i)\n",
        "print(s)\n",
        "# using list comprehension\n",
        "output = set(i for item in items for i in item.values())\n",
        "print(output)"
      ]
    },
    {
      "cell_type": "markdown",
      "metadata": {
        "id": "SNsmePrahjyZ"
      },
      "source": [
        "find the highest 3 values of corresponding keys in a dictionary or get the top three items in a shop"
      ]
    },
    {
      "cell_type": "code",
      "execution_count": null,
      "metadata": {
        "colab": {
          "base_uri": "https://localhost:8080/"
        },
        "id": "WyBOdn2sfwhj",
        "outputId": "d7ced951-e651-4f9d-cfcd-d9972898c68f"
      },
      "outputs": [
        {
          "name": "stdout",
          "output_type": "stream",
          "text": [
            "['b', 'e', 'c']\n",
            "['b', 'e', 'c']\n",
            "{'b': 5874, 'e': 5874, 'c': 560}\n"
          ]
        }
      ],
      "source": [
        "from heapq import nlargest\n",
        "my_dict = {'a':500, 'b':5874, 'c': 560,'d':400, 'e':5874, 'f': 20}\n",
        "#approach 1: using nlargest\n",
        "three_largest = nlargest(3, my_dict, key=my_dict.get)\n",
        "print(three_largest)\n",
        "#approach 2: manually\n",
        "top_3_items = dict(sorted(my_dict.items(), key=lambda x: x[1], reverse=True)[:3])\n",
        "top_3_keys = list(top_3_items.keys())\n",
        "print(top_3_keys)\n",
        "print(top_3_items)"
      ]
    },
    {
      "cell_type": "markdown",
      "metadata": {
        "id": "fFt8brcXi43W"
      },
      "source": [
        "Given an unordered list of flights taken by someone, each represented as (origin, destination) pairs, and a starting airport.\n",
        "Write a Python program to compute the person's itinerary. If no such itinerary exists, return null. If there are multiple possible itineraries, return the lexicographically smallest one. All flights must be used in the itinerary.\n",
        "\n",
        "For example, given the list of flights\n",
        "[('SFO', 'HKO'), ('YYZ', 'SFO'),('YUL', 'YYZ'), ('HKO', 'ORD')]\n",
        "and starting airport 'YUL', you should return the list\n",
        "['YUL', 'YYZ', 'SFO', 'HKO', 'ORD'].\n",
        "Given the list of flights\n",
        "[('SFO', 'COM'), ('COM', 'YYZ')]\n",
        "and starting airport 'COM', you should return null.\n",
        "Given the list of flights\n",
        "[('A', 'B'), ('A', 'C'), ('B', 'C'), ('C', 'A')]\n",
        "and starting airport 'A', you should return the list\n",
        "['A', 'B', 'C', 'A', 'C']\n",
        "even though ['A', 'C', 'A', 'B', 'C'] is also a valid itinerary. However, the first one is lexicographically smaller.\n",
        "Sample Output:\n",
        "['YUL', 'YYZ', 'SFO', 'HKO', 'ORD']\n",
        "not valid intinerary\n",
        "['A', 'C', 'A', 'B', 'C']"
      ]
    },
    {
      "cell_type": "code",
      "execution_count": null,
      "metadata": {
        "colab": {
          "base_uri": "https://localhost:8080/"
        },
        "id": "31pQapO-EVTM",
        "outputId": "91832a43-8df2-47d1-aee7-d19d332bd4f6"
      },
      "outputs": [
        {
          "name": "stdout",
          "output_type": "stream",
          "text": [
            "['YUL', 'YYZ', 'SFO', 'HKO', 'ORD']\n",
            "not valid intinerary\n",
            "['A', 'C', 'A', 'B', 'C']\n"
          ]
        }
      ],
      "source": [
        "flights1 = [('SFO', 'HKO'), ('YYZ', 'SFO'),('YUL', 'YYZ'), ('HKO', 'ORD')]\n",
        "start_city1 = \"YUL\"\n",
        "flights2 = [('SFO', 'COM'), ('COM', 'YYZ')]\n",
        "start_city2 = \"COM\"\n",
        "flights3 =  [('A', 'B'), ('A', 'C'), ('B', 'C'), ('C', 'A')]\n",
        "start_city3 = \"A\"\n",
        "def intinerary(llist, start):\n",
        "    itinerary_list = []\n",
        "    itinerary_list.append(start)\n",
        "\n",
        "    while len(llist) >= 1:\n",
        "        current = None\n",
        "        directions = {}\n",
        "\n",
        "        for item in llist:\n",
        "\n",
        "            if item[0] == start:\n",
        "                directions[item[0]] = item[1]\n",
        "\n",
        "        if len(directions) >= 1:\n",
        "            current = min(directions.values())\n",
        "            remove_tuple = (start, current)\n",
        "\n",
        "        try:\n",
        "            llist.remove(remove_tuple)\n",
        "            itinerary_list.append(current)\n",
        "            start = current\n",
        "        except:\n",
        "            return \"not valid intinerary\"\n",
        "    return itinerary_list\n",
        "print(intinerary(flights1,start_city1))\n",
        "print(intinerary(flights2,start_city2))\n",
        "print(intinerary(flights3,start_city3))"
      ]
    },
    {
      "cell_type": "markdown",
      "metadata": {
        "id": "tKS85nSR63gP"
      },
      "source": [
        "Finding Median given an array of numbers"
      ]
    },
    {
      "cell_type": "code",
      "execution_count": null,
      "metadata": {
        "colab": {
          "base_uri": "https://localhost:8080/"
        },
        "id": "xwzf0AtV64Qq",
        "outputId": "5042040d-ff63-407d-e6eb-3ac61c000bde"
      },
      "outputs": [
        {
          "name": "stdout",
          "output_type": "stream",
          "text": [
            "[2, 2, 2, 3, 3, 4, 5, 7, 7, 8, 8, 8, 9, 9]\n",
            "14\n",
            "6.0\n"
          ]
        }
      ],
      "source": [
        "a = [3,7,8,2,4,8,9,2,5,7,2,3,9,8]\n",
        "a.sort()\n",
        "n = len(a)\n",
        "if n % 2 == 1:\n",
        "  median = a[n//2]\n",
        "else:\n",
        "  m1 = a[n // 2 - 1]\n",
        "  m2 = a[n // 2]\n",
        "  median = (m1 + m2) / 2.0\n",
        "\n",
        "print(a)\n",
        "print(n)\n",
        "print(median)"
      ]
    },
    {
      "cell_type": "markdown",
      "metadata": {
        "id": "4mDPeecx9gnu"
      },
      "source": [
        "find the specified number of maximum values in a given dictionary."
      ]
    },
    {
      "cell_type": "code",
      "execution_count": null,
      "metadata": {
        "colab": {
          "base_uri": "https://localhost:8080/"
        },
        "id": "NG1LWgT59kap",
        "outputId": "26708da6-58d8-4e57-ef0e-6f97e3385480"
      },
      "outputs": [
        {
          "name": "stdout",
          "output_type": "stream",
          "text": [
            "dict_values([100, 100, 57])\n"
          ]
        }
      ],
      "source": [
        "dict1 = {'a': 5, 'b': 14, 'c': 32, 'd': 35, 'e': 24, 'f': 100, 'g': 57, 'h': 8, 'i': 100}\n",
        "n = 3\n",
        "def nmax(d,n):\n",
        "  result = dict(sorted(d.items(), key= lambda x:x[1], reverse=True)[:n]).values()\n",
        "  return result\n",
        "print(nmax(dict1,n))"
      ]
    },
    {
      "cell_type": "markdown",
      "metadata": {
        "id": "L4GkKnUqsF2g"
      },
      "source": [
        "check if a specific key and a value exist in a dictionary.\n",
        "Original dictionary:\n",
        "[{'student_id': 1, 'name': 'Jean Castro', 'class': 'V'}, {'student_id': 2, 'name': 'Lula Powell', 'class': 'V'}, {'student_id': 3, 'name': 'Brian Howell', 'class': 'VI'}, {'student_id': 4, 'name': 'Lynne Foster', 'class': 'VI'}, {'student_id': 5, 'name': 'Zachary Simon', 'class': 'VII'}]\n",
        "Check if a specific Key and a value exist in the said dictionary:\n",
        "True\n",
        "True\n",
        "True\n",
        "False\n",
        "False\n",
        "False"
      ]
    },
    {
      "cell_type": "code",
      "execution_count": null,
      "metadata": {
        "colab": {
          "base_uri": "https://localhost:8080/"
        },
        "id": "UXZgDiMlt9lu",
        "outputId": "191910f8-9c8c-474a-8290-ac1f94404156"
      },
      "outputs": [
        {
          "name": "stdout",
          "output_type": "stream",
          "text": [
            "False\n",
            "True\n"
          ]
        }
      ],
      "source": [
        "o_dict = [{'student_id': 1, 'name': 'Jean Castro', 'class': 'V'},\n",
        "          {'student_id': 2, 'name': 'Lula Powell', 'class': 'V'},\n",
        "          {'student_id': 3, 'name': 'Brian Howell', 'class': 'VI'},\n",
        "          {'student_id': 4, 'name': 'Lynne Foster', 'class': 'VI'},\n",
        "          {'student_id': 5, 'name': 'Zachary Simon', 'class': 'VII'}]\n",
        "def check_key(d,k,v):\n",
        "  for item in d:\n",
        "    if item[k] == v:\n",
        "      return True\n",
        "  return False\n",
        "\n",
        "print(check_key(o_dict, 'student_id' , 6 ))\n",
        "print(check_key(o_dict, 'student_id' , 1 ))"
      ]
    },
    {
      "cell_type": "markdown",
      "metadata": {
        "id": "JscExnqcsQ5f"
      },
      "source": [
        "combine two or more dictionaries, creating a list of values for each key.\n",
        "Sample Output:\n",
        "Original dictionaries:\n",
        "{'w': 50, 'x': 100, 'y': 'Green', 'z': 400}\n",
        "{'x': 300, 'y': 'Red', 'z': 600}\n",
        "Combined dictionaries, creating a list of values for each key:\n",
        "{'w': [50], 'x': [100, 300], 'y': ['Green', 'Red'], 'z': [400, 600]}"
      ]
    },
    {
      "cell_type": "code",
      "execution_count": null,
      "metadata": {
        "colab": {
          "base_uri": "https://localhost:8080/"
        },
        "id": "LlZ0hwQdHOGc",
        "outputId": "6dec22ed-fa4e-45fc-999b-93c65319fc2b"
      },
      "outputs": [
        {
          "data": {
            "text/plain": [
              "{'x': [300, 300], 'y': ['Red', 'Red'], 'z': [600, 600]}"
            ]
          },
          "execution_count": 15,
          "metadata": {},
          "output_type": "execute_result"
        }
      ],
      "source": [
        "from collections import defaultdict\n",
        "dict1 = {'w': 50, 'x': 100, 'y': 'Green', 'z': 400}\n",
        "dict2 = {'x': 300, 'y': 'Red', 'z': 600}\n",
        "output = defaultdict(list)\n",
        "for d in dict1,dict2:\n",
        "  for k in item:\n",
        "    output[k].append(item[k])\n",
        "dict(output)"
      ]
    },
    {
      "cell_type": "markdown",
      "metadata": {
        "id": "pAx18V41sifh"
      },
      "source": [
        "convert a list of dictionaries into a list of values corresponding to the specified key.\n",
        "Sample Output:\n",
        "Original list of dictionaries:\n",
        "[{'name': 'Theodore', 'age': 18}, {'name': 'Mathew', 'age': 22}, {'name': 'Roxanne', 'age': 20}, {'name': 'David', 'age': 18}]\n",
        "Convert a list of dictionaries into a list of values corresponding to the specified key:\n",
        "[18, 22, 20, 18]"
      ]
    },
    {
      "cell_type": "code",
      "execution_count": null,
      "metadata": {
        "colab": {
          "base_uri": "https://localhost:8080/"
        },
        "id": "w1jHoMgkK2Cf",
        "outputId": "7ea76a7e-1cbe-443f-9f6b-5d42ac2996f5"
      },
      "outputs": [
        {
          "data": {
            "text/plain": [
              "100"
            ]
          },
          "execution_count": 36,
          "metadata": {},
          "output_type": "execute_result"
        }
      ],
      "source": [
        "ld =  [{'name': 'Theodore', 'age': 16},\n",
        "       {'name': 'Mathew', 'age': 22},\n",
        "       {'name': 'Roxanne', 'age': 80},\n",
        "       {'name': 'David', 'age': 18}]\n",
        "# test_key = 'name'\n",
        "# a = 'age'\n",
        "# l = []\n",
        "# for d in ld:\n",
        "#     if test_key in d.keys():\n",
        "#       if d[a] > 60:\n",
        "#         b ='senior'\n",
        "#       elif d[a] < 18:\n",
        "#         b = 'minor'\n",
        "#       else:\n",
        "#         b = 'adult'\n",
        "#       l.append(d[test_key]+ ':' + b)\n",
        "\n",
        "ld[0].get('salary', 100)\n",
        "\n",
        "# age > 60 -> name : senior\n",
        "# age < 18 -> name : minor\n",
        "# else name -> adult\n",
        "# l\n",
        "\n",
        "# [d[test_key] + ':' + 'senior' if d[a] > 60 else d[test_key] + ':' + 'minor' if d[a] < 18 else d[test_key] + ':' + 'adult' for d in ld]"
      ]
    },
    {
      "cell_type": "markdown",
      "metadata": {
        "id": "WdkOXYNHs_i0"
      },
      "source": [
        "find all keys in a dictionary that have the given value.\n",
        "Sample Output:\n",
        "Original dictionary elements:\n",
        "{'Theodore': 19, 'Roxanne': 20, 'Mathew': 21, 'Betty': 20}\n",
        "Find all keys in the said dictionary that have the specified value:\n",
        "['Roxanne', 'Betty']"
      ]
    },
    {
      "cell_type": "code",
      "execution_count": null,
      "metadata": {
        "colab": {
          "base_uri": "https://localhost:8080/"
        },
        "id": "HvC4BzKYtFni",
        "outputId": "0256ed9a-be57-4ab2-d639-f05e74e46fe0"
      },
      "outputs": [
        {
          "name": "stdout",
          "output_type": "stream",
          "text": [
            "[20, 20]\n",
            "['Roxanne', 'Betty']\n"
          ]
        }
      ],
      "source": [
        "d = {'Theodore': 19, 'Roxanne': 20, 'Mathew': 21, 'Betty': 20}\n",
        "v_list = ['Roxanne', 'Betty']\n",
        "val = 20\n",
        "\n",
        "v_output =[d.get(v) for v in v_list]\n",
        "val_output = [k for k,v in d.items() if v == val]\n",
        "\n",
        "print(v_output)\n",
        "print(val_output)"
      ]
    },
    {
      "cell_type": "markdown",
      "metadata": {
        "id": "etX71g7AXBAB"
      },
      "source": [
        " Given a dictionary consisting of many roots as well as a sentence, write a function “replace words” to stem all the words in the sentence with the root forming it."
      ]
    },
    {
      "cell_type": "code",
      "execution_count": null,
      "metadata": {
        "colab": {
          "base_uri": "https://localhost:8080/",
          "height": 35
        },
        "id": "HQfUH8ZwXB38",
        "outputId": "e27e9672-9433-43b4-eaff-c9a9522ce667"
      },
      "outputs": [
        {
          "data": {
            "application/vnd.google.colaboratory.intrinsic+json": {
              "type": "string"
            },
            "text/plain": [
              "'the cat was rat by the bat'"
            ]
          },
          "execution_count": 23,
          "metadata": {},
          "output_type": "execute_result"
        }
      ],
      "source": [
        "roots = [\"cat\", \"bat\", \"rat\"]\n",
        "sentence = \"the cattle was rattled by the battery\"\n",
        "\n",
        "#output: \"the cat was rat by the bat\"\n",
        "words = sentence.split()\n",
        "final = []\n",
        "for word in words:\n",
        "        for root in roots:\n",
        "            if word.startswith(root):\n",
        "                final.append(root)\n",
        "                break\n",
        "        else:\n",
        "          final.append(word)\n",
        "\n",
        "\" \".join(final)"
      ]
    },
    {
      "cell_type": "markdown",
      "metadata": {
        "id": "R5FeJUOyGS9o"
      },
      "source": [
        "Given a dictionary, print the key for the nth highest value present in the dictionary. If there is more than one record present for the nth highest value, sort the key and print the first one (alphabetically). N can be higher than the number of elements in the dictionary."
      ]
    },
    {
      "cell_type": "code",
      "execution_count": 9,
      "metadata": {
        "colab": {
          "base_uri": "https://localhost:8080/"
        },
        "id": "LG8DowP5GUV4",
        "outputId": "f9646a90-2991-4bb6-f93e-9e2a63ec6c1a"
      },
      "outputs": [
        {
          "name": "stdout",
          "output_type": "stream",
          "text": [
            "('c', 230)\n"
          ]
        }
      ],
      "source": [
        "data = {\"a\" : 210, \"c\": 230, \"g\": 110, \"b\": 86, \"d\": 230}\n",
        "def n_max(n,dict1):\n",
        "  output = sorted(dict1.items(), key=lambda x:x[1])[n]\n",
        "  print(output)\n",
        "n_max(3,data)"
      ]
    }
  ],
  "metadata": {
    "colab": {
      "authorship_tag": "ABX9TyOrxiQAqqb8+KEDR24RO+U4",
      "include_colab_link": true,
      "provenance": []
    },
    "kernelspec": {
      "display_name": "Python 3",
      "name": "python3"
    },
    "language_info": {
      "codemirror_mode": {
        "name": "ipython",
        "version": 3
      },
      "file_extension": ".py",
      "mimetype": "text/x-python",
      "name": "python",
      "nbconvert_exporter": "python",
      "pygments_lexer": "ipython3",
      "version": "3.11.12"
    }
  },
  "nbformat": 4,
  "nbformat_minor": 0
}
