{
  "nbformat": 4,
  "nbformat_minor": 0,
  "metadata": {
    "colab": {
      "provenance": [],
      "authorship_tag": "ABX9TyMVK0jTI3s689SSboqMDmcP",
      "include_colab_link": true
    },
    "kernelspec": {
      "name": "python3",
      "display_name": "Python 3"
    },
    "language_info": {
      "name": "python"
    }
  },
  "cells": [
    {
      "cell_type": "markdown",
      "metadata": {
        "id": "view-in-github",
        "colab_type": "text"
      },
      "source": [
        "<a href=\"https://colab.research.google.com/github/decisionenabler-sk/python_de_practice_it/blob/main/Python_Interview_practice_it_General.ipynb\" target=\"_parent\"><img src=\"https://colab.research.google.com/assets/colab-badge.svg\" alt=\"Open In Colab\"/></a>"
      ]
    },
    {
      "cell_type": "markdown",
      "source": [
        "Given a list of n-1 integers, and these integers are in the range of 1 to n. There are no duplicates in the list. One of the integers is missing in the list. Can you write an efficient code to find the missing integer?\n"
      ],
      "metadata": {
        "id": "EdzWaB6sqsVz"
      }
    },
    {
      "cell_type": "code",
      "execution_count": 5,
      "metadata": {
        "colab": {
          "base_uri": "https://localhost:8080/"
        },
        "id": "FM-VOz9Mqk16",
        "outputId": "aa1f72e9-5be6-4c2b-e04f-a8f4104d0a82"
      },
      "outputs": [
        {
          "output_type": "stream",
          "name": "stdout",
          "text": [
            "Missing Integer: 5\n"
          ]
        }
      ],
      "source": [
        "# define a function\n",
        "def missing_num(lnum):\n",
        "    # Total number of integers, including the missing one\n",
        "    n = len(lnum) + 1\n",
        "    # Sum of the first n natural numbers\n",
        "    total_sum = (n * (n + 1)) // 2\n",
        "    # Calculate the sum of the given list\n",
        "    list_sum = sum(lnum)\n",
        "    # The missing integer is the difference between the total_sum and list_sum\n",
        "    missing_integer = total_sum - list_sum\n",
        "\n",
        "    return missing_integer\n",
        "\n",
        "# Example usage\n",
        "given_list = [1, 2, 4, 6, 3, 7, 8]\n",
        "missing_number = missing_num(given_list)\n",
        "print(\"Missing Integer:\", missing_number)\n"
      ]
    },
    {
      "cell_type": "markdown",
      "source": [
        "remove duplicates within a list in Python"
      ],
      "metadata": {
        "id": "Bd8Plb_LtV6-"
      }
    },
    {
      "cell_type": "code",
      "source": [
        "l = [1,2,3,3,4,5,5]\n",
        "l_no_dupe = list(set(l))\n",
        "print(\"List with duplicates: \",l)\n",
        "print(\"List with no duplicates: \",l_no_dupe)"
      ],
      "metadata": {
        "colab": {
          "base_uri": "https://localhost:8080/"
        },
        "id": "umN3-1F5tW7M",
        "outputId": "769d4bbb-e91b-4420-ac79-5f5736a5f4ef"
      },
      "execution_count": 7,
      "outputs": [
        {
          "output_type": "stream",
          "name": "stdout",
          "text": [
            "List with duplicates:  [1, 2, 3, 3, 4, 5, 5]\n",
            "List with no duplicates:  [1, 2, 3, 4, 5]\n"
          ]
        }
      ]
    },
    {
      "cell_type": "markdown",
      "source": [
        "Given two nonempty lists of user ids and tips, write a function called “most tips” to find the user that tipped the most.\n"
      ],
      "metadata": {
        "id": "P7EAwIL8uiGf"
      }
    },
    {
      "cell_type": "code",
      "source": [
        "user_ids = [103, 105, 105, 107, 106, 103, 102, 108, 107, 103, 102]\n",
        "tips = [2, 5, 1, 0, 2, 1, 1, 0, 0, 2, 2]\n",
        "def most_tips(u,t):\n",
        "  user_tips = {}\n",
        "  for i in range(len(u)):\n",
        "    user = u[i]\n",
        "    tip = t[i]\n",
        "    if user in user_tips:\n",
        "      user_tips[user] += tip\n",
        "    else:\n",
        "      user_tips[user] = tip\n",
        "  return max(user_tips, key=user_tips.get)\n",
        "  # return user_tips.get(max(user_tips, key=user_tips.get))\n",
        "# evaluate\n",
        "\n",
        "most_tips(user_ids, tips)"
      ],
      "metadata": {
        "colab": {
          "base_uri": "https://localhost:8080/"
        },
        "id": "o_GNh7WYukmL",
        "outputId": "a2609e7c-549b-4905-bf73-ee5fd9e1ef32"
      },
      "execution_count": 17,
      "outputs": [
        {
          "output_type": "execute_result",
          "data": {
            "text/plain": [
              "6"
            ]
          },
          "metadata": {},
          "execution_count": 17
        }
      ]
    }
  ]
}