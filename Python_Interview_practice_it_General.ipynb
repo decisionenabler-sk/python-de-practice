{
  "cells": [
    {
      "cell_type": "markdown",
      "metadata": {
        "colab_type": "text",
        "id": "view-in-github"
      },
      "source": [
        "<a href=\"https://colab.research.google.com/github/decisionenabler-sk/python_de_practice_it/blob/main/Python_Interview_practice_it_General.ipynb\" target=\"_parent\"><img src=\"https://colab.research.google.com/assets/colab-badge.svg\" alt=\"Open In Colab\"/></a>"
      ]
    },
    {
      "cell_type": "markdown",
      "metadata": {
        "id": "EdzWaB6sqsVz"
      },
      "source": [
        "Given a list of n-1 integers, and these integers are in the range of 1 to n. There are no duplicates in the list. One of the integers is missing in the list. Can you write an efficient code to find the missing integer?\n"
      ]
    },
    {
      "cell_type": "code",
      "execution_count": null,
      "metadata": {
        "colab": {
          "base_uri": "https://localhost:8080/"
        },
        "id": "FM-VOz9Mqk16",
        "outputId": "aa1f72e9-5be6-4c2b-e04f-a8f4104d0a82"
      },
      "outputs": [
        {
          "name": "stdout",
          "output_type": "stream",
          "text": [
            "Missing Integer: 5\n"
          ]
        }
      ],
      "source": [
        "# define a function\n",
        "def missing_num(lnum):\n",
        "    # Total number of integers, including the missing one\n",
        "    n = len(lnum) + 1\n",
        "    # Sum of the first n natural numbers\n",
        "    total_sum = (n * (n + 1)) // 2\n",
        "    # Calculate the sum of the given list\n",
        "    list_sum = sum(lnum)\n",
        "    # The missing integer is the difference between the total_sum and list_sum\n",
        "    missing_integer = total_sum - list_sum\n",
        "\n",
        "    return missing_integer\n",
        "\n",
        "# Example usage\n",
        "given_list = [1, 2, 4, 6, 3, 7, 8]\n",
        "missing_number = missing_num(given_list)\n",
        "print(\"Missing Integer:\", missing_number)\n"
      ]
    },
    {
      "cell_type": "markdown",
      "metadata": {
        "id": "Bd8Plb_LtV6-"
      },
      "source": [
        "remove duplicates within a list in Python"
      ]
    },
    {
      "cell_type": "code",
      "execution_count": null,
      "metadata": {
        "colab": {
          "base_uri": "https://localhost:8080/"
        },
        "id": "umN3-1F5tW7M",
        "outputId": "769d4bbb-e91b-4420-ac79-5f5736a5f4ef"
      },
      "outputs": [
        {
          "name": "stdout",
          "output_type": "stream",
          "text": [
            "List with duplicates:  [1, 2, 3, 3, 4, 5, 5]\n",
            "List with no duplicates:  [1, 2, 3, 4, 5]\n"
          ]
        }
      ],
      "source": [
        "l = [1,2,3,3,4,5,5]\n",
        "l_no_dupe = list(set(l))\n",
        "print(\"List with duplicates: \",l)\n",
        "print(\"List with no duplicates: \",l_no_dupe)"
      ]
    },
    {
      "cell_type": "markdown",
      "metadata": {
        "id": "P7EAwIL8uiGf"
      },
      "source": [
        "Given two nonempty lists of user ids and tips, write a function called “most tips” to find the user that tipped the most.\n"
      ]
    },
    {
      "cell_type": "code",
      "execution_count": null,
      "metadata": {
        "colab": {
          "base_uri": "https://localhost:8080/"
        },
        "id": "o_GNh7WYukmL",
        "outputId": "a2609e7c-549b-4905-bf73-ee5fd9e1ef32"
      },
      "outputs": [
        {
          "data": {
            "text/plain": [
              "6"
            ]
          },
          "execution_count": 17,
          "metadata": {},
          "output_type": "execute_result"
        }
      ],
      "source": [
        "user_ids = [103, 105, 105, 107, 106, 103, 102, 108, 107, 103, 102]\n",
        "tips = [2, 5, 1, 0, 2, 1, 1, 0, 0, 2, 2]\n",
        "def most_tips(u,t):\n",
        "  user_tips = {}\n",
        "  for i in range(len(u)):\n",
        "    user = u[i]\n",
        "    tip = t[i]\n",
        "    if user in user_tips:\n",
        "      user_tips[user] += tip\n",
        "    else:\n",
        "      user_tips[user] = tip\n",
        "  return max(user_tips, key=user_tips.get)\n",
        "  # return user_tips.get(max(user_tips, key=user_tips.get))\n",
        "# evaluate\n",
        "\n",
        "most_tips(user_ids, tips)"
      ]
    },
    {
      "cell_type": "markdown",
      "metadata": {
        "id": "k4nUdbx9nfej"
      },
      "source": [
        "Remove vowels from a sentence"
      ]
    },
    {
      "cell_type": "code",
      "execution_count": null,
      "metadata": {
        "colab": {
          "base_uri": "https://localhost:8080/"
        },
        "id": "4_XsYDqqnnHT",
        "outputId": "1be34480-4941-4b43-82d5-dda5a5d612bf"
      },
      "outputs": [
        {
          "name": "stdout",
          "output_type": "stream",
          "text": [
            "Ths s  sntnc frm  bk\n"
          ]
        }
      ],
      "source": [
        "sentence = \"This is a sentence from a book\"\n",
        "list1 = [char for char in sentence if char not in [\"a\",\"e\",\"i\",\"o\",\"u\"]]\n",
        "output = \"\".join(list1)\n",
        "print(output)"
      ]
    },
    {
      "cell_type": "markdown",
      "metadata": {
        "id": "1aQXQMjqo4dq"
      },
      "source": [
        "count number of substring in the sentence"
      ]
    },
    {
      "cell_type": "code",
      "execution_count": null,
      "metadata": {
        "colab": {
          "base_uri": "https://localhost:8080/"
        },
        "id": "AFE6Hlico9tm",
        "outputId": "9999ea6a-5bbb-491b-d469-41317e32952d"
      },
      "outputs": [
        {
          "name": "stdout",
          "output_type": "stream",
          "text": [
            "2\n"
          ]
        }
      ],
      "source": [
        "sentence = \"This is going to be an awesome year\"\n",
        "sub = \"is\"\n",
        "sentence = sentence.lower()\n",
        "print(sentence.count(\"is\"))"
      ]
    },
    {
      "cell_type": "markdown",
      "metadata": {
        "id": "p8Vwr7COp3dc"
      },
      "source": [
        "Find all of the words in a string that are less than 5 letters"
      ]
    },
    {
      "cell_type": "code",
      "execution_count": null,
      "metadata": {
        "colab": {
          "base_uri": "https://localhost:8080/"
        },
        "id": "V76KFUdbp3IH",
        "outputId": "57f7ad46-78dc-4c56-a109-e705fb616f58"
      },
      "outputs": [
        {
          "name": "stdout",
          "output_type": "stream",
          "text": [
            "This is an to the of less than five\n"
          ]
        },
        {
          "data": {
            "text/plain": [
              "9"
            ]
          },
          "execution_count": 11,
          "metadata": {},
          "output_type": "execute_result"
        }
      ],
      "source": [
        "sentence = \"This is an example sentence to calculate the number of letters less than five chracters\"\n",
        "word_list = sentence.split(\" \")\n",
        "five_less = \" \".join(word for word in word_list if len(word) < 5)\n",
        "print(five_less)\n",
        "len(five_less.split(\" \"))\n"
      ]
    },
    {
      "cell_type": "markdown",
      "metadata": {
        "id": "SDnJHYHjsgMJ"
      },
      "source": [
        "swap the case of the sentence"
      ]
    },
    {
      "cell_type": "code",
      "execution_count": null,
      "metadata": {
        "colab": {
          "base_uri": "https://localhost:8080/",
          "height": 35
        },
        "id": "lMMxkZEmsiVo",
        "outputId": "803f2c29-078d-4a3e-e7c2-18d9aae571e1"
      },
      "outputs": [
        {
          "data": {
            "application/vnd.google.colaboratory.intrinsic+json": {
              "type": "string"
            },
            "text/plain": [
              "'I Am Happy'"
            ]
          },
          "execution_count": 13,
          "metadata": {},
          "output_type": "execute_result"
        }
      ],
      "source": [
        "s = \"i aM hAPPY\"\n",
        "\"\".join(c.lower() if c.isupper() else c.upper() for c in s)"
      ]
    },
    {
      "cell_type": "markdown",
      "metadata": {
        "id": "uGMkGWuOtK_W"
      },
      "source": [
        "Find out the top 3 paid employees. Caveat:If salary is same then tie break on age(youngest wins)"
      ]
    },
    {
      "cell_type": "code",
      "execution_count": null,
      "metadata": {
        "colab": {
          "base_uri": "https://localhost:8080/"
        },
        "id": "N88DkiCWtLoK",
        "outputId": "187338cb-b078-448f-8264-8176243f2f42"
      },
      "outputs": [
        {
          "name": "stdout",
          "output_type": "stream",
          "text": [
            "[('Ron', 140000, 30), ('Stan', 125000, 28), ('Dan', 120000, 28)]\n",
            "['Ron', 'Stan', 'Dan']\n"
          ]
        }
      ],
      "source": [
        "data = [\"Dan,120000,28\", \"Ron,140000,30\" , \"Jack, 120000,32\", \"John,50000,21\", \"Stan, 125000, 28\"]\n",
        "# output should look like Ron Stan Dan\n",
        "output = []\n",
        "for item in data:\n",
        "    name, salary, age = item.split(\",\")\n",
        "    output.append((str(name), int(salary), int(age))) #store in tuple\n",
        "output.sort(key=lambda x: (x[1], x[-2]),reverse=True)\n",
        "top_3 = output[:3]\n",
        "print(top_3)\n",
        "print([employee[0] for employee in top_3])"
      ]
    },
    {
      "cell_type": "markdown",
      "metadata": {
        "id": "64PTHBPh9rtq"
      },
      "source": [
        "Given a string, write a function “recurring char” to find the strings first recurring character. Return “None” if there is no recurring character."
      ]
    },
    {
      "cell_type": "code",
      "execution_count": null,
      "metadata": {
        "colab": {
          "base_uri": "https://localhost:8080/"
        },
        "id": "FnI3eXJ39xTM",
        "outputId": "0e3a780f-24a1-4572-9b7b-e079df75b794"
      },
      "outputs": [
        {
          "name": "stdout",
          "output_type": "stream",
          "text": [
            "s\n",
            "none\n",
            "s\n",
            "none\n"
          ]
        }
      ],
      "source": [
        "s1 = \"classification\"\n",
        "s2 = \"case\"\n",
        "def recurring_char(s):\n",
        "  r = []\n",
        "  for c in s:\n",
        "    if c in r:\n",
        "      return c\n",
        "    r.append(c)\n",
        "  return \"none\"\n",
        "print(recurring_char(s1))\n",
        "print(recurring_char(s2))\n",
        "\n",
        "# approch 2 - more optimized and using set\n",
        "\n",
        "def recurring_char2(s):\n",
        "    char_set = set()\n",
        "    for c in s:\n",
        "        if c in char_set:\n",
        "            return c\n",
        "        char_set.add(c)\n",
        "    return \"none\"\n",
        "\n",
        "print(recurring_char2(s1))\n",
        "print(recurring_char2(s2))\n"
      ]
    },
    {
      "cell_type": "markdown",
      "metadata": {
        "id": "0NxgzAXVPlz7"
      },
      "source": [
        "Complete a function that returns a list containing mismatched words in two strings. The return list can be in any order. How I would solve it without using sets?"
      ]
    },
    {
      "cell_type": "code",
      "execution_count": 5,
      "metadata": {
        "colab": {
          "base_uri": "https://localhost:8080/"
        },
        "id": "HnZbSqwKPlO4",
        "outputId": "3d6f0b8a-3c7e-448d-ec7b-56b3af7147d9"
      },
      "outputs": [
        {
          "name": "stdout",
          "output_type": "stream",
          "text": [
            "['H', 'e', 'l', 'o', 'F', 'r', 'i', 'n', 'd', 's']\n",
            "['F', 'r', 'i', 'n', 'd', 's']\n"
          ]
        }
      ],
      "source": [
        "string1 = 'Hello'\n",
        "string2 = 'HelloFriends'\n",
        "lst = string1 + string2\n",
        "subset = []\n",
        "for i in lst:\n",
        "  if i in subset:\n",
        "    continue\n",
        "  else:\n",
        "    subset.append(i)\n",
        "lst1 = []\n",
        "for x in subset:\n",
        "  if ((x in string1) and (x in string2)):\n",
        "    continue\n",
        "  else:\n",
        "    lst1.append(x)\n",
        "print(lst1)"
      ]
    },
    {
      "cell_type": "markdown",
      "metadata": {
        "id": "ceIkoOedQfL3"
      },
      "source": [
        "Given a dictionary, print the key for nth highest\n",
        "value present in the dict. If there are more than\n",
        "1 record present for nth highest value then sort\n",
        "the key and print the first one (alphabetically). N can be higher than the number of elements in the dictionary."
      ]
    },
    {
      "cell_type": "markdown",
      "metadata": {
        "id": "jXIKwBNRQh3Z"
      },
      "source": [
        "Given a list of ints, balance the list so that each int appears equally in the list. Return a dictionary where the key is the int and the value is the count needed to balance the list.\n",
        "\n",
        "[1, 1, 2] => {2: 1}\n",
        "[1, 1, 1, 5, 3, 2, 2] => {5: 2, 3: 2, 2: 1}"
      ]
    },
    {
      "cell_type": "markdown",
      "metadata": {
        "id": "pIrHLfynC6HS"
      },
      "source": [
        " Have a list of 3 letters. Write a code to concatenate this list with another list of numbers whose range varies from 1 to 3 (3 is included)."
      ]
    },
    {
      "cell_type": "code",
      "execution_count": 3,
      "metadata": {
        "colab": {
          "base_uri": "https://localhost:8080/"
        },
        "id": "06M5HHTyC_12",
        "outputId": "3bcfde82-2eda-4c7f-ff9c-cdf5c053a03a"
      },
      "outputs": [
        {
          "name": "stdout",
          "output_type": "stream",
          "text": [
            "['A1', 'B1', 'C1', 'A2', 'B2', 'C2', 'A3', 'B3', 'C3']\n"
          ]
        }
      ],
      "source": [
        "l_list = [\"A\", \"B\", \"C\"]\n",
        "output = []\n",
        "for i in range(1,len(l_list)+1):\n",
        "  for l in l_list:\n",
        "    output.append(l+str(i))\n",
        "print(output)"
      ]
    },
    {
      "cell_type": "markdown",
      "metadata": {
        "id": "Hj4D3SxfAhw1"
      },
      "source": [
        "The marks of a student in each subject given below. Write a Python function that takes two parameters 'name' and 'subjects_marks. Finally, print the student's name and all the subjects in which his/her marks are above 60. If the 'name' is not provided, print 'None.'\n",
        "\n",
        "**Input:** Math = 80, Physics = 58, Chemistry = 62, English = 72, Biology = 50\n",
        "\n",
        "**Expected Output:** Name: Ron - Subjects: {'Chemistry', 'English', 'Mathematics\"}"
      ]
    },
    {
      "cell_type": "code",
      "execution_count": 6,
      "metadata": {
        "colab": {
          "base_uri": "https://localhost:8080/"
        },
        "id": "G8j5dwgMAlOl",
        "outputId": "ce2de37f-74c0-4acf-e35b-bb8bff517a5d"
      },
      "outputs": [
        {
          "name": "stdout",
          "output_type": "stream",
          "text": [
            "Name: Ron - Subjects: {'Chemistry', 'Math', 'English'}\n"
          ]
        }
      ],
      "source": [
        "marks = {'Math': 80, 'Physics':58, 'Chemistry':62, 'English':72, 'Biology':50}\n",
        "def above_60(name = None,subject_marks={}):\n",
        "  if name is not None:\n",
        "        above_60_subjects = {subject for subject, marks in subject_marks.items() if marks > 60}\n",
        "        return name, above_60_subjects\n",
        "  else:\n",
        "        return None\n",
        "\n",
        "output = above_60('Ron',marks)\n",
        "if output is not None:\n",
        "    name, above_60_subjects = output\n",
        "    print(f\"Name: {name} - Subjects: {above_60_subjects}\")\n",
        "else:\n",
        "    print(\"None\")"
      ]
    },
    {
      "cell_type": "markdown",
      "metadata": {},
      "source": [
        "You have a list of dictionaries, each dictionary contains information about a person's name, age, and location. You need to transform this data and calculate the average age of people from each location"
      ]
    },
    {
      "cell_type": "code",
      "execution_count": 18,
      "metadata": {},
      "outputs": [
        {
          "data": {
            "text/plain": [
              "Location\n",
              "Los Angeles      27.00\n",
              "New York         28.75\n",
              "San Francisco    28.00\n",
              "Name: Age, dtype: float64"
            ]
          },
          "execution_count": 18,
          "metadata": {},
          "output_type": "execute_result"
        }
      ],
      "source": [
        "import pandas as pd\n",
        "data = [\n",
        "    {'Name': 'Alice', 'Age': 25, 'Location': 'New York'},\n",
        "    {'Name': 'Bob', 'Age': 30, 'Location': 'San Francisco'},\n",
        "    {'Name': 'Charlie', 'Age': 22, 'Location': 'New York'},\n",
        "    {'Name': 'David', 'Age': 28, 'Location': 'San Francisco'},\n",
        "    {'Name': 'Angela', 'Age': 26, 'Location': 'San Francisco'},\n",
        "    {'Name': 'Rebecca', 'Age': 30, 'Location': 'Los Angeles'},\n",
        "    {'Name': 'Eve', 'Age': 35, 'Location': 'New York'},\n",
        "    {'Name': 'Don', 'Age': 33, 'Location': 'New York'},\n",
        "    {'Name': 'John', 'Age': 24, 'Location': 'Los Angeles'},\n",
        "]\n",
        "df = pd.DataFrame(data)\n",
        "group_df = df.groupby('Location')\n",
        "mean_age = group_df['Age'].mean()\n",
        "mean_age\n"
      ]
    },
    {
      "cell_type": "markdown",
      "metadata": {},
      "source": [
        "You have two lists: one containing customer IDs and another containing the purchase amounts made by those customers. Write Python code to calculate the total purchase amount for each customer and store the results in a dictionary where the keys are customer IDs, and the values are the total purchase amounts. "
      ]
    },
    {
      "cell_type": "code",
      "execution_count": 32,
      "metadata": {},
      "outputs": [
        {
          "data": {
            "text/plain": [
              "{101: 125.25, 102: 50.5, 103: 45.75, 104: 60.3}"
            ]
          },
          "execution_count": 32,
          "metadata": {},
          "output_type": "execute_result"
        }
      ],
      "source": [
        "customer_ids = [101, 102, 101, 103, 102, 104]\n",
        "purchase_amounts = [50.25, 30.50, 75.00, 45.75, 20.00, 60.30]\n",
        "customer_purchase = zip(customer_ids,purchase_amounts)\n",
        "output = {}\n",
        "for customer_id, amount in customer_purchase:\n",
        "    # print(customer_id, amount)\n",
        "    if customer_id in output:\n",
        "        output[customer_id] = output[customer_id] + amount\n",
        "    else:\n",
        "        output[customer_id] = amount\n",
        "    \n",
        "output"
      ]
    },
    {
      "cell_type": "markdown",
      "metadata": {},
      "source": [
        "Write a function to count the number of times each character appears in a string and rewrite the string in that format. Eg. “I am back.” should become “i1 2a2m1b1c1k1.1” "
      ]
    },
    {
      "cell_type": "code",
      "execution_count": 11,
      "metadata": {},
      "outputs": [
        {
          "data": {
            "text/plain": [
              "'I1a2m1b1a2c1k1'"
            ]
          },
          "execution_count": 11,
          "metadata": {},
          "output_type": "execute_result"
        }
      ],
      "source": [
        "from collections import Counter\n",
        "input = 'I am back'\n",
        "input = input.replace(' ', '')\n",
        "count = dict(Counter(input))\n",
        "output = \"\".join([c + str(count[c]) for c in input])\n",
        "output\n",
        "\n"
      ]
    },
    {
      "cell_type": "markdown",
      "metadata": {},
      "source": [
        "Given an array of integers, and a target integer, return two numbers if they add up to target\n",
        "integer.\n",
        "You may not use the same element twice for one solution – i.e., if the target is 4 and there is only\n",
        "one ‘2’ in the array, then [2,2] is not a valid solution.\n",
        "Input:\n",
        "Array: [6,5,9,-2,1310]\n",
        "Target: 11\n",
        "Output:\n",
        "(6, 5)\n",
        "(-2, 13)"
      ]
    },
    {
      "cell_type": "code",
      "execution_count": 1,
      "metadata": {},
      "outputs": [
        {
          "name": "stdout",
          "output_type": "stream",
          "text": [
            "6 5\n",
            "-2 13\n"
          ]
        }
      ],
      "source": [
        "def twoSum(array, target):\n",
        " # search first element in array\n",
        "    for i in range(len(array) - 1):\n",
        " # search other element in array\n",
        "        for j in range(i + 1, len(array)):\n",
        " # if both elements add up to target, print both elements\n",
        "            if array[i] + array[j] == target:\n",
        "                print(array [i], array[j])\n",
        "\n",
        "# Test The Code\n",
        "array = [6, 5, 9, -2, 13, 10]\n",
        "target = 11\n",
        "# Run The Function\n",
        "twoSum(array, target)"
      ]
    },
    {
      "cell_type": "code",
      "execution_count": 3,
      "metadata": {},
      "outputs": [
        {
          "name": "stdout",
          "output_type": "stream",
          "text": [
            "5 6\n",
            "13 -2\n"
          ]
        }
      ],
      "source": [
        "def twosum_2(array,target):\n",
        "    sums = []\n",
        "    hashtable = {}\n",
        "\n",
        "    for i in range(len(array)):\n",
        "        remainder = target - array[i]\n",
        "        if remainder in hashtable:\n",
        "            print(array[i], remainder)\n",
        "        hashtable[array[i]] = array[i]\n",
        "# Test The Code\n",
        "array = [6, 5, 9, -2, 13, 10]\n",
        "target = 11\n",
        "# Run The Function\n",
        "twosum_2(array, target)"
      ]
    }
  ],
  "metadata": {
    "colab": {
      "authorship_tag": "ABX9TyP99+nCiGoFtq5B27pEzLtp",
      "include_colab_link": true,
      "provenance": []
    },
    "kernelspec": {
      "display_name": "Python 3",
      "name": "python3"
    },
    "language_info": {
      "codemirror_mode": {
        "name": "ipython",
        "version": 3
      },
      "file_extension": ".py",
      "mimetype": "text/x-python",
      "name": "python",
      "nbconvert_exporter": "python",
      "pygments_lexer": "ipython3",
      "version": "3.11.6"
    }
  },
  "nbformat": 4,
  "nbformat_minor": 0
}
