{
  "nbformat": 4,
  "nbformat_minor": 0,
  "metadata": {
    "colab": {
      "provenance": [],
      "authorship_tag": "ABX9TyOEW3yQA6qvDTMtvh2/wMe6",
      "include_colab_link": true
    },
    "kernelspec": {
      "name": "python3",
      "display_name": "Python 3"
    },
    "language_info": {
      "name": "python"
    }
  },
  "cells": [
    {
      "cell_type": "markdown",
      "metadata": {
        "id": "view-in-github",
        "colab_type": "text"
      },
      "source": [
        "<a href=\"https://colab.research.google.com/github/decisionenabler-sk/python_de_practice_it/blob/main/Python_Interview_practice_it_General.ipynb\" target=\"_parent\"><img src=\"https://colab.research.google.com/assets/colab-badge.svg\" alt=\"Open In Colab\"/></a>"
      ]
    },
    {
      "cell_type": "markdown",
      "source": [
        "Given a list of n-1 integers, and these integers are in the range of 1 to n. There are no duplicates in the list. One of the integers is missing in the list. Can you write an efficient code to find the missing integer?\n"
      ],
      "metadata": {
        "id": "EdzWaB6sqsVz"
      }
    },
    {
      "cell_type": "code",
      "execution_count": 5,
      "metadata": {
        "colab": {
          "base_uri": "https://localhost:8080/"
        },
        "id": "FM-VOz9Mqk16",
        "outputId": "aa1f72e9-5be6-4c2b-e04f-a8f4104d0a82"
      },
      "outputs": [
        {
          "output_type": "stream",
          "name": "stdout",
          "text": [
            "Missing Integer: 5\n"
          ]
        }
      ],
      "source": [
        "# define a function\n",
        "def missing_num(lnum):\n",
        "    # Total number of integers, including the missing one\n",
        "    n = len(lnum) + 1\n",
        "    # Sum of the first n natural numbers\n",
        "    total_sum = (n * (n + 1)) // 2\n",
        "    # Calculate the sum of the given list\n",
        "    list_sum = sum(lnum)\n",
        "    # The missing integer is the difference between the total_sum and list_sum\n",
        "    missing_integer = total_sum - list_sum\n",
        "\n",
        "    return missing_integer\n",
        "\n",
        "# Example usage\n",
        "given_list = [1, 2, 4, 6, 3, 7, 8]\n",
        "missing_number = missing_num(given_list)\n",
        "print(\"Missing Integer:\", missing_number)\n"
      ]
    }
  ]
}