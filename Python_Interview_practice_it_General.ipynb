{
  "nbformat": 4,
  "nbformat_minor": 0,
  "metadata": {
    "colab": {
      "provenance": [],
      "authorship_tag": "ABX9TyMAGRzYZdvudRP8OtkUbsQB",
      "include_colab_link": true
    },
    "kernelspec": {
      "name": "python3",
      "display_name": "Python 3"
    },
    "language_info": {
      "name": "python"
    }
  },
  "cells": [
    {
      "cell_type": "markdown",
      "metadata": {
        "id": "view-in-github",
        "colab_type": "text"
      },
      "source": [
        "<a href=\"https://colab.research.google.com/github/decisionenabler-sk/python_de_practice_it/blob/main/Python_Interview_practice_it_General.ipynb\" target=\"_parent\"><img src=\"https://colab.research.google.com/assets/colab-badge.svg\" alt=\"Open In Colab\"/></a>"
      ]
    },
    {
      "cell_type": "markdown",
      "source": [
        "Given a list of n-1 integers, and these integers are in the range of 1 to n. There are no duplicates in the list. One of the integers is missing in the list. Can you write an efficient code to find the missing integer?\n"
      ],
      "metadata": {
        "id": "EdzWaB6sqsVz"
      }
    },
    {
      "cell_type": "code",
      "execution_count": null,
      "metadata": {
        "colab": {
          "base_uri": "https://localhost:8080/"
        },
        "id": "FM-VOz9Mqk16",
        "outputId": "aa1f72e9-5be6-4c2b-e04f-a8f4104d0a82"
      },
      "outputs": [
        {
          "output_type": "stream",
          "name": "stdout",
          "text": [
            "Missing Integer: 5\n"
          ]
        }
      ],
      "source": [
        "# define a function\n",
        "def missing_num(lnum):\n",
        "    # Total number of integers, including the missing one\n",
        "    n = len(lnum) + 1\n",
        "    # Sum of the first n natural numbers\n",
        "    total_sum = (n * (n + 1)) // 2\n",
        "    # Calculate the sum of the given list\n",
        "    list_sum = sum(lnum)\n",
        "    # The missing integer is the difference between the total_sum and list_sum\n",
        "    missing_integer = total_sum - list_sum\n",
        "\n",
        "    return missing_integer\n",
        "\n",
        "# Example usage\n",
        "given_list = [1, 2, 4, 6, 3, 7, 8]\n",
        "missing_number = missing_num(given_list)\n",
        "print(\"Missing Integer:\", missing_number)\n"
      ]
    },
    {
      "cell_type": "markdown",
      "source": [
        "remove duplicates within a list in Python"
      ],
      "metadata": {
        "id": "Bd8Plb_LtV6-"
      }
    },
    {
      "cell_type": "code",
      "source": [
        "l = [1,2,3,3,4,5,5]\n",
        "l_no_dupe = list(set(l))\n",
        "print(\"List with duplicates: \",l)\n",
        "print(\"List with no duplicates: \",l_no_dupe)"
      ],
      "metadata": {
        "colab": {
          "base_uri": "https://localhost:8080/"
        },
        "id": "umN3-1F5tW7M",
        "outputId": "769d4bbb-e91b-4420-ac79-5f5736a5f4ef"
      },
      "execution_count": null,
      "outputs": [
        {
          "output_type": "stream",
          "name": "stdout",
          "text": [
            "List with duplicates:  [1, 2, 3, 3, 4, 5, 5]\n",
            "List with no duplicates:  [1, 2, 3, 4, 5]\n"
          ]
        }
      ]
    },
    {
      "cell_type": "markdown",
      "source": [
        "Given two nonempty lists of user ids and tips, write a function called “most tips” to find the user that tipped the most.\n"
      ],
      "metadata": {
        "id": "P7EAwIL8uiGf"
      }
    },
    {
      "cell_type": "code",
      "source": [
        "user_ids = [103, 105, 105, 107, 106, 103, 102, 108, 107, 103, 102]\n",
        "tips = [2, 5, 1, 0, 2, 1, 1, 0, 0, 2, 2]\n",
        "def most_tips(u,t):\n",
        "  user_tips = {}\n",
        "  for i in range(len(u)):\n",
        "    user = u[i]\n",
        "    tip = t[i]\n",
        "    if user in user_tips:\n",
        "      user_tips[user] += tip\n",
        "    else:\n",
        "      user_tips[user] = tip\n",
        "  return max(user_tips, key=user_tips.get)\n",
        "  # return user_tips.get(max(user_tips, key=user_tips.get))\n",
        "# evaluate\n",
        "\n",
        "most_tips(user_ids, tips)"
      ],
      "metadata": {
        "colab": {
          "base_uri": "https://localhost:8080/"
        },
        "id": "o_GNh7WYukmL",
        "outputId": "a2609e7c-549b-4905-bf73-ee5fd9e1ef32"
      },
      "execution_count": null,
      "outputs": [
        {
          "output_type": "execute_result",
          "data": {
            "text/plain": [
              "6"
            ]
          },
          "metadata": {},
          "execution_count": 17
        }
      ]
    },
    {
      "cell_type": "markdown",
      "source": [
        "Remove vowels from a sentence"
      ],
      "metadata": {
        "id": "k4nUdbx9nfej"
      }
    },
    {
      "cell_type": "code",
      "source": [
        "sentence = \"This is a sentence from a book\"\n",
        "list1 = [char for char in sentence if char not in [\"a\",\"e\",\"i\",\"o\",\"u\"]]\n",
        "output = \"\".join(list1)\n",
        "print(output)"
      ],
      "metadata": {
        "colab": {
          "base_uri": "https://localhost:8080/"
        },
        "id": "4_XsYDqqnnHT",
        "outputId": "1be34480-4941-4b43-82d5-dda5a5d612bf"
      },
      "execution_count": null,
      "outputs": [
        {
          "output_type": "stream",
          "name": "stdout",
          "text": [
            "Ths s  sntnc frm  bk\n"
          ]
        }
      ]
    },
    {
      "cell_type": "markdown",
      "source": [
        "count number of substring in the sentence"
      ],
      "metadata": {
        "id": "1aQXQMjqo4dq"
      }
    },
    {
      "cell_type": "code",
      "source": [
        "sentence = \"This is going to be an awesome year\"\n",
        "sub = \"is\"\n",
        "sentence = sentence.lower()\n",
        "print(sentence.count(\"is\"))"
      ],
      "metadata": {
        "colab": {
          "base_uri": "https://localhost:8080/"
        },
        "id": "AFE6Hlico9tm",
        "outputId": "9999ea6a-5bbb-491b-d469-41317e32952d"
      },
      "execution_count": null,
      "outputs": [
        {
          "output_type": "stream",
          "name": "stdout",
          "text": [
            "2\n"
          ]
        }
      ]
    },
    {
      "cell_type": "markdown",
      "source": [
        "Find all of the words in a string that are less than 5 letters"
      ],
      "metadata": {
        "id": "p8Vwr7COp3dc"
      }
    },
    {
      "cell_type": "code",
      "source": [
        "sentence = \"This is an example sentence to calculate the number of letters less than five chracters\"\n",
        "word_list = sentence.split(\" \")\n",
        "five_less = \" \".join(word for word in word_list if len(word) < 5)\n",
        "print(five_less)\n",
        "len(five_less.split(\" \"))\n"
      ],
      "metadata": {
        "colab": {
          "base_uri": "https://localhost:8080/"
        },
        "id": "V76KFUdbp3IH",
        "outputId": "57f7ad46-78dc-4c56-a109-e705fb616f58"
      },
      "execution_count": null,
      "outputs": [
        {
          "output_type": "stream",
          "name": "stdout",
          "text": [
            "This is an to the of less than five\n"
          ]
        },
        {
          "output_type": "execute_result",
          "data": {
            "text/plain": [
              "9"
            ]
          },
          "metadata": {},
          "execution_count": 11
        }
      ]
    },
    {
      "cell_type": "markdown",
      "source": [
        "swap the case of the sentence"
      ],
      "metadata": {
        "id": "SDnJHYHjsgMJ"
      }
    },
    {
      "cell_type": "code",
      "source": [
        "s = \"i aM hAPPY\"\n",
        "\"\".join(c.lower() if c.isupper() else c.upper() for c in s)"
      ],
      "metadata": {
        "colab": {
          "base_uri": "https://localhost:8080/",
          "height": 35
        },
        "id": "lMMxkZEmsiVo",
        "outputId": "803f2c29-078d-4a3e-e7c2-18d9aae571e1"
      },
      "execution_count": null,
      "outputs": [
        {
          "output_type": "execute_result",
          "data": {
            "text/plain": [
              "'I Am Happy'"
            ],
            "application/vnd.google.colaboratory.intrinsic+json": {
              "type": "string"
            }
          },
          "metadata": {},
          "execution_count": 13
        }
      ]
    },
    {
      "cell_type": "markdown",
      "source": [
        "Find out the top 3 paid employees. Caveat:If salary is same then tie break on age(youngest wins)"
      ],
      "metadata": {
        "id": "uGMkGWuOtK_W"
      }
    },
    {
      "cell_type": "code",
      "source": [
        "data = [\"Dan,120000,28\", \"Ron,140000,30\" , \"Jack, 120000,32\", \"John,50000,21\", \"Stan, 125000, 28\"]\n",
        "# output should look like Ron Stan Dan\n",
        "output = []\n",
        "for item in data:\n",
        "    name, salary, age = item.split(\",\")\n",
        "    output.append((str(name), int(salary), int(age))) #store in tuple\n",
        "output.sort(key=lambda x: (x[1], x[-2]),reverse=True)\n",
        "top_3 = output[:3]\n",
        "print(top_3)\n",
        "print([employee[0] for employee in top_3])"
      ],
      "metadata": {
        "colab": {
          "base_uri": "https://localhost:8080/"
        },
        "id": "N88DkiCWtLoK",
        "outputId": "187338cb-b078-448f-8264-8176243f2f42"
      },
      "execution_count": null,
      "outputs": [
        {
          "output_type": "stream",
          "name": "stdout",
          "text": [
            "[('Ron', 140000, 30), ('Stan', 125000, 28), ('Dan', 120000, 28)]\n",
            "['Ron', 'Stan', 'Dan']\n"
          ]
        }
      ]
    },
    {
      "cell_type": "markdown",
      "source": [
        "Given a string, write a function “recurring char” to find the strings first recurring character. Return “None” if there is no recurring character."
      ],
      "metadata": {
        "id": "64PTHBPh9rtq"
      }
    },
    {
      "cell_type": "code",
      "source": [
        "s1 = \"classification\"\n",
        "s2 = \"case\"\n",
        "def recurring_char(s):\n",
        "  r = []\n",
        "  for c in s:\n",
        "    if c in r:\n",
        "      return c\n",
        "    else:\n",
        "      r.append(c)\n",
        "  if len(c) == len(r):\n",
        "    return \"none\"\n",
        "print(recurring_char(s1))\n",
        "print(recurring_char(s2))\n",
        "\n",
        "# approch 2 - more optimized and using set\n",
        "\n",
        "def recurring_char2(s):\n",
        "    char_set = set()\n",
        "    for c in s:\n",
        "        if c in char_set:\n",
        "            return c\n",
        "        char_set.add(c)\n",
        "    return \"none\"\n",
        "\n",
        "print(recurring_char2(s1))\n",
        "print(recurring_char2(s2))\n"
      ],
      "metadata": {
        "colab": {
          "base_uri": "https://localhost:8080/"
        },
        "id": "FnI3eXJ39xTM",
        "outputId": "4e9c2d9b-9d3a-47fc-a1d9-767e7d9daf15"
      },
      "execution_count": 31,
      "outputs": [
        {
          "output_type": "stream",
          "name": "stdout",
          "text": [
            "s\n",
            "None\n",
            "s\n",
            "none\n"
          ]
        }
      ]
    }
  ]
}