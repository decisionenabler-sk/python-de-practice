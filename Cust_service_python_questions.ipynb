{
 "cells": [
  {
   "cell_type": "markdown",
   "metadata": {},
   "source": [
    "Solve using Python with the customer service data json file:\n",
    "\n",
    "1. **Data Transformation and Aggregation:**\n",
    "\n",
    "   Write Python code to transform the customer service data into a new JSON structure where each customer is represented as a dictionary with keys like \"customer_id,\" \"customer_name,\" \"total_tickets_open,\" and \"last_ticket_status.\" Calculate the total number of open tickets for each customer and include the status of their most recent ticket.\n",
    "\n",
    "2. **Data Filtering and Validation:**\n",
    "\n",
    "   Create a Python function that filters the customer service data to find customers who have open support tickets (status is \"Open\"). Ensure that the function handles missing or invalid data gracefully and provides appropriate error messages.\n",
    "\n",
    "3. **Customer with Most Tickets:**\n",
    "\n",
    "   Write Python code to identify and print the customer with the most support tickets. Provide their name, email address, and the number of tickets they have opened.\n",
    "\n",
    "4. **Ticket Resolution Time:**\n",
    "\n",
    "   Calculate the average resolution time for closed support tickets in hours. This involves calculating the time difference between the \"date_opened\" and \"date_closed\" for each closed ticket, and then finding the average.\n",
    "\n",
    "5. **Subscription-Based Analysis:**\n",
    "\n",
    "   Create a Python function that analyzes the data to find the most common SaaS product among customers who have open support tickets. Provide the product name and the count of customers using that product with open tickets.\n",
    "\n",
    "These questions assess a candidate's ability to manipulate and analyze data using Python, handle data validation and filtering, and perform calculations based on date and time data. Candidates may be asked to provide both the code and a brief explanation of their approach during the interview process."
   ]
  },
  {
   "cell_type": "code",
   "execution_count": 15,
   "metadata": {},
   "outputs": [],
   "source": [
    "import pandas as pd\n",
    "import json\n",
    "# Reading data from JSON file\n",
    "with open(\"customer_service_data.json\", \"r\") as file:\n",
    "    customer_service_data = json.load(file)"
   ]
  },
  {
   "cell_type": "markdown",
   "metadata": {},
   "source": [
    "Now, let's find number of open tickets for each customer and the last status"
   ]
  },
  {
   "cell_type": "code",
   "execution_count": 46,
   "metadata": {},
   "outputs": [
    {
     "name": "stdout",
     "output_type": "stream",
     "text": [
      "[{'customer_id': '1001', 'customer_name': 'John Doe', 'total_tickets_open': 2, 'last_ticket_status': 'Open'}, {'customer_id': '1002', 'customer_name': 'Jane Smith', 'total_tickets_open': 1, 'last_ticket_status': 'Open'}, {'customer_id': '1003', 'customer_name': 'Bob Johnson', 'total_tickets_open': 0, 'last_ticket_status': None}]\n"
     ]
    }
   ],
   "source": [
    "output = []\n",
    "for customer_info in customer_service_data[\"customer_service\"]:\n",
    "    customer = {\n",
    "        \"customer_id\": customer_info[\"customer_id\"],\n",
    "        \"customer_name\": customer_info[\"customer_name\"],\n",
    "        \"total_tickets_open\": 0,\n",
    "        \"last_ticket_status\": None\n",
    "    }\n",
    "    if customer_info[\"support_tickets\"]:\n",
    "        open_tickets = [ticket for ticket in customer_info[\"support_tickets\"] if ticket[\"status\"] == \"Open\"]\n",
    "        customer[\"total_tickets_open\"] = len(open_tickets)\n",
    "        if open_tickets:\n",
    "            customer[\"last_ticket_status\"] = open_tickets[-1][\"status\"]\n",
    "    output.append(customer)\n",
    "print(output)"
   ]
  },
  {
   "cell_type": "markdown",
   "metadata": {},
   "source": [
    "Next, we will write a python function which finds all customers with open tickets "
   ]
  },
  {
   "cell_type": "code",
   "execution_count": 47,
   "metadata": {},
   "outputs": [
    {
     "data": {
      "text/html": [
       "<div>\n",
       "<style scoped>\n",
       "    .dataframe tbody tr th:only-of-type {\n",
       "        vertical-align: middle;\n",
       "    }\n",
       "\n",
       "    .dataframe tbody tr th {\n",
       "        vertical-align: top;\n",
       "    }\n",
       "\n",
       "    .dataframe thead th {\n",
       "        text-align: right;\n",
       "    }\n",
       "</style>\n",
       "<table border=\"1\" class=\"dataframe\">\n",
       "  <thead>\n",
       "    <tr style=\"text-align: right;\">\n",
       "      <th></th>\n",
       "      <th>customer_id</th>\n",
       "      <th>customer_name_x</th>\n",
       "      <th>customer_email</th>\n",
       "      <th>subscription_id</th>\n",
       "      <th>product_name</th>\n",
       "      <th>support_tickets</th>\n",
       "      <th>customer_name_y</th>\n",
       "      <th>total_tickets_open</th>\n",
       "    </tr>\n",
       "  </thead>\n",
       "  <tbody>\n",
       "    <tr>\n",
       "      <th>0</th>\n",
       "      <td>1001</td>\n",
       "      <td>John Doe</td>\n",
       "      <td>johndoe@example.com</td>\n",
       "      <td>S12345</td>\n",
       "      <td>SaaS Product X</td>\n",
       "      <td>[{'ticket_id': 'T001', 'date_opened': '2023-09...</td>\n",
       "      <td>John Doe</td>\n",
       "      <td>2</td>\n",
       "    </tr>\n",
       "    <tr>\n",
       "      <th>1</th>\n",
       "      <td>1002</td>\n",
       "      <td>Jane Smith</td>\n",
       "      <td>janesmith@example.com</td>\n",
       "      <td>S12346</td>\n",
       "      <td>SaaS Product Y</td>\n",
       "      <td>[{'ticket_id': 'T003', 'date_opened': '2023-09...</td>\n",
       "      <td>Jane Smith</td>\n",
       "      <td>1</td>\n",
       "    </tr>\n",
       "  </tbody>\n",
       "</table>\n",
       "</div>"
      ],
      "text/plain": [
       "  customer_id customer_name_x         customer_email subscription_id  \\\n",
       "0        1001        John Doe    johndoe@example.com          S12345   \n",
       "1        1002      Jane Smith  janesmith@example.com          S12346   \n",
       "\n",
       "     product_name                                    support_tickets  \\\n",
       "0  SaaS Product X  [{'ticket_id': 'T001', 'date_opened': '2023-09...   \n",
       "1  SaaS Product Y  [{'ticket_id': 'T003', 'date_opened': '2023-09...   \n",
       "\n",
       "  customer_name_y  total_tickets_open  \n",
       "0        John Doe                   2  \n",
       "1      Jane Smith                   1  "
      ]
     },
     "execution_count": 47,
     "metadata": {},
     "output_type": "execute_result"
    }
   ],
   "source": [
    "cs_data = pd.DataFrame(customer_service_data)\n",
    "def open_ticket_customers(customer_service_data: pd.DataFrame):\n",
    "    result = []\n",
    "    for customer_info in customer_service_data[\"customer_service\"]:\n",
    "        customer = {\n",
    "            \"customer_id\": customer_info[\"customer_id\"],\n",
    "            \"customer_name\": customer_info[\"customer_name\"],\n",
    "            \"total_tickets_open\": 0,\n",
    "        }\n",
    "        if customer_info[\"support_tickets\"]:\n",
    "            open_tickets = [ticket for ticket in customer_info[\"support_tickets\"] if ticket[\"status\"] == \"Open\"]\n",
    "            customer[\"total_tickets_open\"] = len(open_tickets)\n",
    "        result.append(customer)\n",
    "    return result\n",
    "output = pd.DataFrame(open_ticket_customers(cs_data))\n",
    "output = output[output[\"total_tickets_open\"] >0]\n",
    "original_data = pd.DataFrame([c for c in cs_data[\"customer_service\"]])\n",
    "final = pd.merge(original_data,output, how=\"inner\", on=\"customer_id\")\n",
    "final"
   ]
  },
  {
   "cell_type": "markdown",
   "metadata": {},
   "source": [
    "Let's find out the average ticket resolution time and the fastest ticket that was resolved"
   ]
  },
  {
   "cell_type": "code",
   "execution_count": 5,
   "metadata": {},
   "outputs": [
    {
     "name": "stdout",
     "output_type": "stream",
     "text": [
      "[15, 30, 30]\n",
      "Average Ticket resolution (minutes): 25.0\n"
     ]
    }
   ],
   "source": [
    "from datetime import datetime\n",
    "ticket_resolution =[]\n",
    "for customer_info in customer_service_data[\"customer_service\"]:\n",
    "    for ticket in customer_info[\"support_tickets\"]:\n",
    "        if customer_info[\"support_tickets\"] and ticket[\"status\"] == \"Closed\":\n",
    "            duration = (datetime.strptime(ticket[\"date_closed\"], \"%Y-%m-%d %H:%M:%S\") - datetime.strptime(ticket[\"date_opened\"], \"%Y-%m-%d %H:%M:%S\"))\n",
    "            ticket_resolution.append(duration.seconds // 60 % 60)\n",
    "\n",
    "print(ticket_resolution)\n",
    "average_duration = sum(ticket_resolution) / len(ticket_resolution)\n",
    "print(\"Average Ticket resolution (minutes):\" ,average_duration)"
   ]
  },
  {
   "cell_type": "markdown",
   "metadata": {},
   "source": [
    "Find products with open tickets and count of customers"
   ]
  },
  {
   "cell_type": "code",
   "execution_count": 20,
   "metadata": {},
   "outputs": [
    {
     "data": {
      "text/plain": [
       "defaultdict(<function __main__.<lambda>()>,\n",
       "            {'SaaS Product X': {'open_ticket_count': 4, 'customer_count': 2},\n",
       "             'SaaS Product Y': {'open_ticket_count': 2, 'customer_count': 2}})"
      ]
     },
     "execution_count": 20,
     "metadata": {},
     "output_type": "execute_result"
    }
   ],
   "source": [
    "from collections import defaultdict\n",
    "product_info = defaultdict(lambda: {\"open_ticket_count\": 0, \"customer_count\": 0})\n",
    "for customer_info in customer_service_data[\"customer_service\"]:\n",
    "    open_tickets = [ticket for ticket in customer_info[\"support_tickets\"] if ticket[\"status\"] == \"Open\"]\n",
    "    if open_tickets:\n",
    "        product_name = customer_info[\"product_name\"]\n",
    "        product_info[product_name][\"open_ticket_count\"] += len(open_tickets)\n",
    "        product_info[product_name][\"customer_count\"] += 1\n",
    "\n",
    "product_info"
   ]
  }
 ],
 "metadata": {
  "kernelspec": {
   "display_name": "Python 3",
   "language": "python",
   "name": "python3"
  },
  "language_info": {
   "codemirror_mode": {
    "name": "ipython",
    "version": 3
   },
   "file_extension": ".py",
   "mimetype": "text/x-python",
   "name": "python",
   "nbconvert_exporter": "python",
   "pygments_lexer": "ipython3",
   "version": "3.9.6"
  },
  "orig_nbformat": 4
 },
 "nbformat": 4,
 "nbformat_minor": 2
}
