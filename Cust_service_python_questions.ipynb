{
 "cells": [
  {
   "cell_type": "markdown",
   "metadata": {},
   "source": [
    "Solve using Python with the customer service data json file:\n",
    "\n",
    "1. **Data Transformation and Aggregation:**\n",
    "\n",
    "   Write Python code to transform the customer service data into a new JSON structure where each customer is represented as a dictionary with keys like \"customer_id,\" \"customer_name,\" \"total_tickets_open,\" and \"last_ticket_status.\" Calculate the total number of open tickets for each customer and include the status of their most recent ticket.\n",
    "\n",
    "2. **Data Filtering and Validation:**\n",
    "\n",
    "   Create a Python function that filters the customer service data to find customers who have open support tickets (status is \"Open\"). Ensure that the function handles missing or invalid data gracefully and provides appropriate error messages.\n",
    "\n",
    "3. **Customer with Most Tickets:**\n",
    "\n",
    "   Write Python code to identify and print the customer with the most support tickets. Provide their name, email address, and the number of tickets they have opened.\n",
    "\n",
    "4. **Ticket Resolution Time:**\n",
    "\n",
    "   Calculate the average resolution time for closed support tickets in hours. This involves calculating the time difference between the \"date_opened\" and \"date_closed\" for each closed ticket, and then finding the average.\n",
    "\n",
    "5. **Subscription-Based Analysis:**\n",
    "\n",
    "   Create a Python function that analyzes the data to find the most common SaaS product among customers who have open support tickets. Provide the product name and the count of customers using that product with open tickets.\n",
    "\n",
    "These questions assess a candidate's ability to manipulate and analyze data using Python, handle data validation and filtering, and perform calculations based on date and time data. Candidates may be asked to provide both the code and a brief explanation of their approach during the interview process."
   ]
  },
  {
   "cell_type": "code",
   "execution_count": 30,
   "metadata": {},
   "outputs": [],
   "source": [
    "import pandas as pd\n",
    "import json\n",
    "# Reading data from JSON file\n",
    "with open(\"customer_service_data.json\", \"r\") as file:\n",
    "    customer_service_data = json.load(file)"
   ]
  },
  {
   "cell_type": "markdown",
   "metadata": {},
   "source": [
    "Now, let's find number of open tickets for each customer and the last status"
   ]
  },
  {
   "cell_type": "code",
   "execution_count": 31,
   "metadata": {},
   "outputs": [
    {
     "name": "stdout",
     "output_type": "stream",
     "text": [
      "[{'customer_id': '1001', 'customer_name': 'John Doe', 'total_tickets_open': 2, 'last_ticket_status': 'Open'}, {'customer_id': '1002', 'customer_name': 'Jane Smith', 'total_tickets_open': 1, 'last_ticket_status': 'Open'}, {'customer_id': '1003', 'customer_name': 'Bob Johnson', 'total_tickets_open': 0, 'last_ticket_status': None}]\n"
     ]
    }
   ],
   "source": [
    "output = []\n",
    "for customer_info in customer_service_data[\"customer_service\"]:\n",
    "    customer = {\n",
    "        \"customer_id\": customer_info[\"customer_id\"],\n",
    "        \"customer_name\": customer_info[\"customer_name\"],\n",
    "        \"total_tickets_open\": 0,\n",
    "        \"last_ticket_status\": None\n",
    "    }\n",
    "    if customer_info[\"support_tickets\"]:\n",
    "        open_tickets = [ticket for ticket in customer_info[\"support_tickets\"] if ticket[\"status\"] == \"Open\"]\n",
    "        customer[\"total_tickets_open\"] = len(open_tickets)\n",
    "        if open_tickets:\n",
    "            customer[\"last_ticket_status\"] = open_tickets[-1][\"status\"]\n",
    "    output.append(customer)\n",
    "print(output)"
   ]
  }
 ],
 "metadata": {
  "kernelspec": {
   "display_name": "Python 3",
   "language": "python",
   "name": "python3"
  },
  "language_info": {
   "codemirror_mode": {
    "name": "ipython",
    "version": 3
   },
   "file_extension": ".py",
   "mimetype": "text/x-python",
   "name": "python",
   "nbconvert_exporter": "python",
   "pygments_lexer": "ipython3",
   "version": "3.9.6"
  },
  "orig_nbformat": 4
 },
 "nbformat": 4,
 "nbformat_minor": 2
}
