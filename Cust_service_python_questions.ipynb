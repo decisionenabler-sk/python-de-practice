{
 "cells": [
  {
   "cell_type": "markdown",
   "metadata": {},
   "source": [
    "Solve using Python with the customer service data json file:\n",
    "\n",
    "1. **Data Transformation and Aggregation:**\n",
    "\n",
    "   Write Python code to transform the customer service data into a new JSON structure where each customer is represented as a dictionary with keys like \"customer_id,\" \"customer_name,\" \"total_tickets_open,\" and \"last_ticket_status.\" Calculate the total number of open tickets for each customer and include the status of their most recent ticket.\n",
    "\n",
    "2. **Data Filtering and Validation:**\n",
    "\n",
    "   Create a Python function that filters the customer service data to find customers who have open support tickets (status is \"Open\"). Ensure that the function handles missing or invalid data gracefully and provides appropriate error messages.\n",
    "\n",
    "3. **Customer with Most Tickets:**\n",
    "\n",
    "   Write Python code to identify and print the customer with the most support tickets. Provide their name, email address, and the number of tickets they have opened.\n",
    "\n",
    "4. **Ticket Resolution Time:**\n",
    "\n",
    "   Calculate the average resolution time for closed support tickets in hours. This involves calculating the time difference between the \"date_opened\" and \"date_closed\" for each closed ticket, and then finding the average.\n",
    "\n",
    "5. **Subscription-Based Analysis:**\n",
    "\n",
    "   Create a Python function that analyzes the data to find the most common SaaS product among customers who have open support tickets. Provide the product name and the count of customers using that product with open tickets.\n",
    "\n",
    "These questions assess a candidate's ability to manipulate and analyze data using Python, handle data validation and filtering, and perform calculations based on date and time data. Candidates may be asked to provide both the code and a brief explanation of their approach during the interview process."
   ]
  }
 ],
 "metadata": {
  "language_info": {
   "name": "python"
  },
  "orig_nbformat": 4
 },
 "nbformat": 4,
 "nbformat_minor": 2
}
