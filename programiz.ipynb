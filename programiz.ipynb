{
 "cells": [
  {
   "cell_type": "markdown",
   "metadata": {},
   "source": [
    "Create a Python program to find the majority element in a list."
   ]
  },
  {
   "cell_type": "code",
   "execution_count": 1,
   "metadata": {},
   "outputs": [
    {
     "name": "stdout",
     "output_type": "stream",
     "text": [
      "7\n"
     ]
    }
   ],
   "source": [
    "l = [1, 7, 8, 7, 7, 7]\n",
    "def find_majority_element(num_list):\n",
    "\n",
    "    # iterate through each number in the list\n",
    "    for num in num_list:\n",
    "        \n",
    "        # check the number of occurrence of each element\n",
    "        count = num_list.count(num)\n",
    "        \n",
    "        # if the number of occurrences is greater than\n",
    "        # n // 2, where n is the length of the list\n",
    "        # len(num_list) returns the length of the list\n",
    "        if count > len(num_list)//2:\n",
    "            return num\n",
    "\n",
    "\n",
    "# given list with majority element\n",
    "numbers = [1, 7, 8, 7, 7, 7]\n",
    "\n",
    "# call the method with list as an argument\n",
    "result = find_majority_element(l)\n",
    "print(result)"
   ]
  }
 ],
 "metadata": {
  "kernelspec": {
   "display_name": "Python 3",
   "language": "python",
   "name": "python3"
  },
  "language_info": {
   "codemirror_mode": {
    "name": "ipython",
    "version": 3
   },
   "file_extension": ".py",
   "mimetype": "text/x-python",
   "name": "python",
   "nbconvert_exporter": "python",
   "pygments_lexer": "ipython3",
   "version": "3.11.6"
  }
 },
 "nbformat": 4,
 "nbformat_minor": 2
}
