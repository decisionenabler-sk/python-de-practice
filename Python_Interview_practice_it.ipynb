{
  "nbformat": 4,
  "nbformat_minor": 0,
  "metadata": {
    "colab": {
      "provenance": [],
      "authorship_tag": "ABX9TyNZDwmBcohYAAulD5ZwzpLH",
      "include_colab_link": true
    },
    "kernelspec": {
      "name": "python3",
      "display_name": "Python 3"
    },
    "language_info": {
      "name": "python"
    }
  },
  "cells": [
    {
      "cell_type": "markdown",
      "metadata": {
        "id": "view-in-github",
        "colab_type": "text"
      },
      "source": [
        "<a href=\"https://colab.research.google.com/github/decisionenabler-sk/python_de_practice_it/blob/main/Python_Interview_practice_it.ipynb\" target=\"_parent\"><img src=\"https://colab.research.google.com/assets/colab-badge.svg\" alt=\"Open In Colab\"/></a>"
      ]
    },
    {
      "cell_type": "markdown",
      "source": [
        "Find the most common 3 products purchased"
      ],
      "metadata": {
        "id": "OpVMs4lytQCa"
      }
    },
    {
      "cell_type": "code",
      "execution_count": null,
      "metadata": {
        "colab": {
          "base_uri": "https://localhost:8080/"
        },
        "id": "Y9v_buwRsofF",
        "outputId": "529acf0e-d4db-45ed-85e9-9fde5b32dcb2"
      },
      "outputs": [
        {
          "output_type": "stream",
          "name": "stdout",
          "text": [
            "[('DES004', 7), ('DES002', 5), ('ENT004', 5)]\n"
          ]
        }
      ],
      "source": [
        "from collections import Counter\n",
        "products_purchased = [\"DES005\",\n",
        "            \"BEV003\",\n",
        "            \"DES004\",\n",
        "            \"DES001\",\n",
        "            \"DES002\",\n",
        "            \"DES003\",\n",
        "            \"DES002\",\n",
        "            \"DES002\",\n",
        "            \"STA004\",\n",
        "            \"SAL004\",\n",
        "            \"ENT005\",\n",
        "            \"BEV003\",\n",
        "            \"SAL002\",\n",
        "            \"ENT005\",\n",
        "            \"SAL004\",\n",
        "            \"ENT004\",\n",
        "            \"ENT004\",\n",
        "            \"DES004\",\n",
        "            \"BEV001\",\n",
        "            \"STA001\",\n",
        "            \"STA003\",\n",
        "            \"BEV002\",\n",
        "            \"STA003\",\n",
        "            \"DES005\",\n",
        "            \"BEV002\",\n",
        "            \"ENT004\",\n",
        "            \"ENT001\",\n",
        "            \"DES005\",\n",
        "            \"ENT004\",\n",
        "            \"STA005\",\n",
        "            \"ENT005\",\n",
        "            \"DES002\",\n",
        "            \"ENT001\",\n",
        "            \"SAL001\",\n",
        "            \"BEV001\",\n",
        "            \"DES002\",\n",
        "            \"BEV001\",\n",
        "            \"DES004\",\n",
        "            \"ENT004\",\n",
        "            \"DES001\",\n",
        "            \"STA005\",\n",
        "            \"DES004\",\n",
        "            \"ENT002\",\n",
        "            \"DES001\",\n",
        "            \"ENT002\",\n",
        "            \"ENT003\",\n",
        "            \"BEV001\",\n",
        "            \"DES004\",\n",
        "            \"STA005\",\n",
        "            \"STA003\",\n",
        "            \"SAL002\",\n",
        "            \"ENT001\",\n",
        "            \"SAL004\",\n",
        "            \"STA005\",\n",
        "            \"ENT002\",\n",
        "            \"DES004\",\n",
        "            \"DES004\",\n",
        "            \"SAL001\",\n",
        "            \"BEV003\",\n",
        "            \"DES001\"]\n",
        "count = Counter(products_purchased)\n",
        "print(count.most_common(3))"
      ]
    },
    {
      "cell_type": "markdown",
      "source": [
        "sell 5 starters, 3 salads, and 3 entrees\n",
        "make 9 more starters and 1 more entree"
      ],
      "metadata": {
        "id": "eEBOtDwcvBJc"
      }
    },
    {
      "cell_type": "code",
      "source": [
        "from collections import Counter\n",
        "inventory = Counter(STA001=10, SAL002=20, ENT004=13)\n",
        "#sell\n",
        "sales_this_week = Counter(STA001=5, SAL002=3,ENT004=3)\n",
        "inventory = inventory - sales_this_week\n",
        "print(inventory)\n",
        "#make\n",
        "inventory_in = dict()\n",
        "inventory_in = {\"STA001\":9, \"SAL002\":1}\n",
        "print(inventory_in)\n",
        "inventory = inventory.update(inventory_in)\n",
        "print(inventory)"
      ],
      "metadata": {
        "colab": {
          "base_uri": "https://localhost:8080/"
        },
        "id": "5vVVC-tjvRbp",
        "outputId": "a89da8df-f04a-4090-f817-fec51faaf134"
      },
      "execution_count": null,
      "outputs": [
        {
          "output_type": "stream",
          "name": "stdout",
          "text": [
            "Counter({'SAL002': 17, 'ENT004': 10, 'STA001': 5})\n",
            "{'STA001': 9, 'SAL002': 1}\n",
            "None\n"
          ]
        }
      ]
    },
    {
      "cell_type": "markdown",
      "source": [
        "Keep track of the last 5 foods you ordered"
      ],
      "metadata": {
        "id": "JwYtx1Tj1UJt"
      }
    },
    {
      "cell_type": "code",
      "source": [
        "from collections import deque\n",
        "foods = deque(maxlen=5)\n",
        "foods.append(\"STA001\")\n",
        "print(foods)\n",
        "ordered_foods = [\"DES003\", \"STA002\", \"ENT004\", \"ENT001\"]\n",
        "foods.extend(ordered_foods)\n",
        "print(foods)\n",
        "foods.appendleft(\"DES005\")\n",
        "print(foods)"
      ],
      "metadata": {
        "colab": {
          "base_uri": "https://localhost:8080/"
        },
        "id": "jRxrvBaI1lO4",
        "outputId": "7928551f-a322-4e81-8f06-8821bc498d8a"
      },
      "execution_count": null,
      "outputs": [
        {
          "output_type": "stream",
          "name": "stdout",
          "text": [
            "deque(['STA001'], maxlen=5)\n",
            "deque(['STA001', 'DES003', 'STA002', 'ENT004', 'ENT001'], maxlen=5)\n",
            "deque(['DES005', 'STA001', 'DES003', 'STA002', 'ENT004'], maxlen=5)\n"
          ]
        }
      ]
    },
    {
      "cell_type": "markdown",
      "source": [
        "Palndrone Checker"
      ],
      "metadata": {
        "id": "WgWI3e9x3NiM"
      }
    },
    {
      "cell_type": "code",
      "source": [
        "from collections import deque\n",
        "# word = \"HANNAH\"\n",
        "word = \"SURBHI\"\n",
        "d = deque(word)\n",
        "while len(d) > 1:\n",
        "  if d.pop() != d.popleft():\n",
        "      output = False\n",
        "  else:\n",
        "     output = True\n",
        "\n",
        "print(output)"
      ],
      "metadata": {
        "id": "TCHeYU823vGZ",
        "colab": {
          "base_uri": "https://localhost:8080/"
        },
        "outputId": "f1cd6166-404a-4d43-8b6f-6ffa071de934"
      },
      "execution_count": null,
      "outputs": [
        {
          "output_type": "stream",
          "name": "stdout",
          "text": [
            "False\n"
          ]
        }
      ]
    },
    {
      "cell_type": "markdown",
      "source": [
        "Given a dictionary and dictionary list, update the dictionary with dictionary list values.\n"
      ],
      "metadata": {
        "id": "Wzhv0y7XjJN4"
      }
    },
    {
      "cell_type": "code",
      "source": [
        "dict_list = [{\"for\":3,\"all\":7}, {\"and\": 1, \"CS\":9}]\n",
        "test_dict = {\"Gfg\":2, \"is\":1,\"Best\":3}\n",
        "for item in dict_list:\n",
        "  test_dict.update(item)\n",
        "print(dict_list)\n",
        "print(test_dict)"
      ],
      "metadata": {
        "colab": {
          "base_uri": "https://localhost:8080/"
        },
        "id": "6op2zILajKM5",
        "outputId": "3509cf4a-0c51-4add-ea7b-1249b1517b64"
      },
      "execution_count": null,
      "outputs": [
        {
          "output_type": "stream",
          "name": "stdout",
          "text": [
            "[{'for': 3, 'all': 7}, {'and': 1, 'CS': 9}]\n",
            "{'Gfg': 2, 'is': 1, 'Best': 3, 'for': 3, 'all': 7, 'and': 1, 'CS': 9}\n"
          ]
        }
      ]
    },
    {
      "cell_type": "markdown",
      "source": [
        "Reverse Dictionary Keys Order"
      ],
      "metadata": {
        "id": "PZqk_JfmjkFY"
      }
    },
    {
      "cell_type": "code",
      "source": [
        "from collections import OrderedDict\n",
        "test_dict = {\"Gfg\":2, \"is\":1,\"Best\":3}\n",
        "output = OrderedDict(reversed(list(test_dict.items())))\n",
        "print(output)"
      ],
      "metadata": {
        "colab": {
          "base_uri": "https://localhost:8080/"
        },
        "id": "Syimg0EfjlPX",
        "outputId": "42b997e1-484c-45ff-9301-48f59d5fa09d"
      },
      "execution_count": null,
      "outputs": [
        {
          "output_type": "stream",
          "name": "stdout",
          "text": [
            "OrderedDict([('Best', 3), ('is', 1), ('Gfg', 2)])\n"
          ]
        }
      ]
    },
    {
      "cell_type": "markdown",
      "source": [
        "Replace dictionary value from other dictionary"
      ],
      "metadata": {
        "id": "QXRXsiJrkXbD"
      }
    },
    {
      "cell_type": "code",
      "source": [
        "test_dict = {\"Gfg\" : 5, \"is\" : 8, \"Best\" : 10, \"for\" : 8, \"Geeks\" : 9}\n",
        "print(test_dict)\n",
        "updict = {\"Gfg\"  : 10, \"Best\" : 17}\n",
        "for item in test_dict:\n",
        "  if item in updict:\n",
        "    test_dict[item] = updict[item]\n",
        "print(test_dict)\n",
        "\n"
      ],
      "metadata": {
        "colab": {
          "base_uri": "https://localhost:8080/"
        },
        "id": "JcHwr1aQkaKj",
        "outputId": "a50f057c-62db-4524-b48a-a9ae4098216f"
      },
      "execution_count": null,
      "outputs": [
        {
          "output_type": "stream",
          "name": "stdout",
          "text": [
            "{'Gfg': 5, 'is': 8, 'Best': 10, 'for': 8, 'Geeks': 9}\n",
            "{'Gfg': 10, 'is': 8, 'Best': 17, 'for': 8, 'Geeks': 9}\n"
          ]
        }
      ]
    },
    {
      "cell_type": "markdown",
      "source": [
        "Combine 2 dictionaries having key of first dictionary and value of second dictionary"
      ],
      "metadata": {
        "id": "Mp3eVZfRl0e4"
      }
    },
    {
      "cell_type": "code",
      "source": [
        "test_dict1 = {\"Gfg\" : 20, \"is\" : 36, \"best\" : 100}\n",
        "test_dict2 = {\"Gfg2\" : 26, \"is2\" : 20, \"best2\" : 70}\n",
        "keys1 = list(test_dict1.keys())\n",
        "values2 = list(test_dict2.values())\n",
        "output=dict()\n",
        "for i in range(len(keys1)):\n",
        "     output[keys1[i]] = values2[i]\n",
        "print(output)"
      ],
      "metadata": {
        "colab": {
          "base_uri": "https://localhost:8080/"
        },
        "id": "Kt64tNCWl-0K",
        "outputId": "9eff6f8d-1802-4eef-d3e9-d3f17cecb72d"
      },
      "execution_count": null,
      "outputs": [
        {
          "output_type": "stream",
          "name": "stdout",
          "text": [
            "{'Gfg': 26, 'is': 20, 'best': 70}\n"
          ]
        }
      ]
    },
    {
      "cell_type": "markdown",
      "source": [
        "Count the frequency of each word in the paragraph"
      ],
      "metadata": {
        "id": "kC5eC1PJncyb"
      }
    },
    {
      "cell_type": "code",
      "source": [
        "import string\n",
        "from collections import Counter\n",
        "paragraph = \"\"\"Nadia's Garden Restaurant is the creation of husband and wife team Nadia and Timothy Arbore.\n",
        "    Their American-infused, Italian-based, organically created, cuisine was inspired by Nadia's papa, an immigrant from Italy,\n",
        "    who shared his love of cooking with Nadia as a young girl. His focus on using fresh ingredients and family style dining were\n",
        "    the inspiration for Nadia's Garden Restaurant. Located in the heart of Main Streets Historic District, they are proud to be a\n",
        "    part of a rich community. In 2011, the duo remodeled the restaurant and updated their menu to include newer and more diverse entrées\n",
        "     that could be made from local organic suppliers. Preservation of the building's original layout has allowed them to create smaller,\n",
        "     more intimate, dining spaces. Nadia and Timothy are committed to sharing their family history of cuisine, along with their new inspirations,\n",
        "      with their customers. Their passion for community, entertainment, and hospitality are found in every aspect of Nadia's Garden Restaurant.\"\"\"\n",
        "# print(paragraph)\n",
        "paragraph = paragraph.lower()\n",
        "paragraph = paragraph.translate(str.maketrans('', '', string.punctuation))\n",
        "wordlist = paragraph.split()\n",
        "count = Counter(wordlist)\n",
        "# print(count.get(\"restaurant\"))\n",
        "print(count)"
      ],
      "metadata": {
        "colab": {
          "base_uri": "https://localhost:8080/"
        },
        "id": "QxVVZpIXndy_",
        "outputId": "3dfd1ff8-8248-4570-e311-529ce512bbf9"
      },
      "execution_count": null,
      "outputs": [
        {
          "output_type": "stream",
          "name": "stdout",
          "text": [
            "[('of', 7), ('and', 7), ('the', 6), ('their', 6)]\n"
          ]
        }
      ]
    },
    {
      "cell_type": "markdown",
      "source": [
        "Remove duplicate values across Dictionary Values *(in progress)*"
      ],
      "metadata": {
        "id": "VdbSA8PLupyp"
      }
    },
    {
      "cell_type": "code",
      "source": [
        "from collections import Counter\n",
        "test_dict = {'Manjeet': [1, 4, 5, 6],\n",
        "             'Akash': [1, 8, 9],\n",
        "             'Nikhil': [10, 22, 4],\n",
        "             'Akshat': [5, 11, 22]}\n",
        "count = Counter()\n",
        "for i in test_dict.values():\n",
        "  count.update(i)"
      ],
      "metadata": {
        "id": "v9GQRfuIvB5J"
      },
      "execution_count": null,
      "outputs": []
    },
    {
      "cell_type": "markdown",
      "source": [
        "Given an integer array nums, return true if any value appears at least twice in the array, and return false if every element is distinct"
      ],
      "metadata": {
        "id": "V3ES9hZPnHLD"
      }
    },
    {
      "cell_type": "code",
      "source": [
        "nums = [1,2,3,4]\n",
        "unique = set()\n",
        "for num in nums:\n",
        "    unique.add(num)\n",
        "print(len(unique))\n",
        "print(len(nums))\n",
        "if len(unique)<len(nums):\n",
        "  print(True)\n",
        "else:\n",
        "  print(False)"
      ],
      "metadata": {
        "colab": {
          "base_uri": "https://localhost:8080/"
        },
        "id": "6iY06C5dnIkF",
        "outputId": "dcbe1898-5446-4314-851d-42ff89a387c5"
      },
      "execution_count": null,
      "outputs": [
        {
          "output_type": "stream",
          "name": "stdout",
          "text": [
            "4\n",
            "4\n",
            "False\n"
          ]
        }
      ]
    },
    {
      "cell_type": "markdown",
      "source": [
        "refactor the above code using list comprehension"
      ],
      "metadata": {
        "id": "h6xTfZqn8rMw"
      }
    },
    {
      "cell_type": "code",
      "source": [
        "nums = [1,2,3,1]\n",
        "unique = set(num for num in nums)\n",
        "print(True if len(unique) < len(nums) else False)"
      ],
      "metadata": {
        "colab": {
          "base_uri": "https://localhost:8080/"
        },
        "id": "HD2GHJ7V8u5O",
        "outputId": "2c371e95-0f1b-4239-c141-0d6f8d5d45f9"
      },
      "execution_count": null,
      "outputs": [
        {
          "output_type": "stream",
          "name": "stdout",
          "text": [
            "True\n"
          ]
        }
      ]
    },
    {
      "cell_type": "markdown",
      "source": [
        "Write a Python program to sum and multiply all the items in a dictionary."
      ],
      "metadata": {
        "id": "aOa7HbzIC1f1"
      }
    },
    {
      "cell_type": "code",
      "source": [
        "my_dict = {'data1':100,'data2':-54,'data3':247}\n",
        "print(sum(my_dict.values()))\n",
        "my_dict2 = {'data1':10,'data2':20,'data3':5}\n",
        "multiply= 1\n",
        "for k in my_dict2:\n",
        "  multiply=multiply*my_dict2[k]\n",
        "print(multiply)"
      ],
      "metadata": {
        "colab": {
          "base_uri": "https://localhost:8080/"
        },
        "id": "f_Vj2c8yC2lE",
        "outputId": "3559cd63-ac9a-4caa-a2b5-2d8167110c8d"
      },
      "execution_count": null,
      "outputs": [
        {
          "output_type": "stream",
          "name": "stdout",
          "text": [
            "293\n",
            "1000\n"
          ]
        }
      ]
    },
    {
      "cell_type": "markdown",
      "source": [
        "remove a key from a dictionary"
      ],
      "metadata": {
        "id": "tmZGcmS-heiD"
      }
    },
    {
      "cell_type": "code",
      "source": [
        "d={\"t1\":250, \"t2\":248, \"t3\":243, \"t4\":251}\n",
        "d.pop(\"t1\")\n",
        "print(d)\n",
        "myDict = {'a':1,'b':2,'c':3,'d':4}\n",
        "print(myDict)\n",
        "if 'a' in myDict:\n",
        "    del myDict['a']\n",
        "print(myDict)\n"
      ],
      "metadata": {
        "colab": {
          "base_uri": "https://localhost:8080/"
        },
        "id": "wht8kE5hhg_3",
        "outputId": "b4ebf54f-26a7-4e8e-d6cc-e5c272880a8c"
      },
      "execution_count": null,
      "outputs": [
        {
          "output_type": "stream",
          "name": "stdout",
          "text": [
            "{'t2': 248, 't3': 243, 't4': 251}\n",
            "{'a': 1, 'b': 2, 'c': 3, 'd': 4}\n",
            "{'b': 2, 'c': 3, 'd': 4}\n"
          ]
        }
      ]
    },
    {
      "cell_type": "markdown",
      "source": [
        "map two lists into a dictionary"
      ],
      "metadata": {
        "id": "r21MDJqfjL2I"
      }
    },
    {
      "cell_type": "code",
      "source": [
        "l1 = [\"a\", \"b\", \"c\"]\n",
        "l2 = [1,2,3]\n",
        "d=dict(zip(l1,l2))\n",
        "print(d)"
      ],
      "metadata": {
        "colab": {
          "base_uri": "https://localhost:8080/"
        },
        "id": "Nk2AfddUjMl_",
        "outputId": "5e408b56-61cb-457f-c544-ab2f74f255f9"
      },
      "execution_count": null,
      "outputs": [
        {
          "output_type": "stream",
          "name": "stdout",
          "text": [
            "{'a': 1, 'b': 2, 'c': 3}\n"
          ]
        }
      ]
    },
    {
      "cell_type": "markdown",
      "source": [
        "sort a given dictionary by key and then by value, and find min and max value"
      ],
      "metadata": {
        "id": "bSB871cPkwvp"
      }
    },
    {
      "cell_type": "code",
      "source": [
        "from collections import OrderedDict\n",
        "d={\"t2\":250, \"t1\":248, \"t3\":243, \"t4\":251}\n",
        "keys=sorted(d.keys())\n",
        "# print(keys)\n",
        "# sort_keys_d = {k:d[k] for k in keys}\n",
        "sort_keys_d = {k:d[k] for k in sorted(d.keys())}\n",
        "sort_values_d = dict(sorted(d.items(), key=lambda x:x[1]))\n",
        "print(sort_keys_d)\n",
        "print(sort_values_d)\n",
        "\n",
        "key_max = max(d.keys(), key=(lambda k: d[k]))\n",
        "key_min = min(d.keys(), key=(lambda k: d[k]))\n",
        "\n",
        "print('Maximum Value: ',d[key_max])\n",
        "print('Minimum Value: ',d[key_min])\n"
      ],
      "metadata": {
        "colab": {
          "base_uri": "https://localhost:8080/"
        },
        "id": "sViQordJkytJ",
        "outputId": "53f0af6f-2089-4a78-ef8a-db8e1b821bca"
      },
      "execution_count": null,
      "outputs": [
        {
          "output_type": "stream",
          "name": "stdout",
          "text": [
            "{'t1': 248, 't2': 250, 't3': 243, 't4': 251}\n",
            "{'t3': 243, 't1': 248, 't2': 250, 't4': 251}\n",
            "Maximum Value:  251\n",
            "Minimum Value:  243\n"
          ]
        }
      ]
    },
    {
      "cell_type": "markdown",
      "source": [
        "swap values from two dictionaries"
      ],
      "metadata": {
        "id": "Vr8VBRtnohF3"
      }
    },
    {
      "cell_type": "code",
      "source": [
        "d1 = {\"a\":100, \"b\":200, \"c\":300, \"d\":400}\n",
        "d2 = {\"aa\":1000, \"bb\":2000, \"cc\":3000, \"dd\":4000}\n",
        "for k1,v1 in d1.items():\n",
        "  for k2,v2 in d2.items():\n",
        "    d1[k1], d2[k2] = d2[k2], d1[k1]\n",
        "print(d1)\n",
        "print(d2)"
      ],
      "metadata": {
        "colab": {
          "base_uri": "https://localhost:8080/"
        },
        "id": "ck-tDXfopkrX",
        "outputId": "a27c1318-c5bb-4630-f8b8-a74d88e34a07"
      },
      "execution_count": null,
      "outputs": [
        {
          "output_type": "stream",
          "name": "stdout",
          "text": [
            "{'a': 4000, 'b': 3000, 'c': 2000, 'd': 1000}\n",
            "{'aa': 400, 'bb': 300, 'cc': 200, 'dd': 100}\n"
          ]
        }
      ]
    }
  ]
}